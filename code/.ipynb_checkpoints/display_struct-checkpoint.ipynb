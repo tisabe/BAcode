{
 "cells": [
  {
   "cell_type": "code",
   "execution_count": 1,
   "metadata": {},
   "outputs": [],
   "source": [
    "import ase\n",
    "import numpy as np\n",
    "from numpy.linalg import norm, svd\n",
    "from ase.visualize import view\n",
    "import struct_statistics as stats\n",
    "import matplotlib.pyplot as p\n",
    "import soaputils as su\n",
    "#%matplotlib"
   ]
  },
  {
   "cell_type": "code",
   "execution_count": 2,
   "metadata": {},
   "outputs": [],
   "source": [
    "# generate and read the two structures used in this notebook\n",
    "struct_ran = su.gen_struct(70, seed=50)\n",
    "struct_opt = ase.io.read('res_structs/x0_test/batch0.cfg')"
   ]
  },
  {
   "cell_type": "code",
   "execution_count": null,
   "metadata": {},
   "outputs": [],
   "source": [
    "# calculate SOAP-parameters and matrices, only works on linux systems, \n",
    "# so the matrices were pre-calculated can be loaded in the cell below\n",
    "import soaplite\n",
    "import genBasis\n",
    "rCut = 10.0\n",
    "NradBas = 5\n",
    "Lmax = 5\n",
    "myAlphas, myBetas = genBasis.getBasisFunc(rCut, NradBas)\n",
    "\n",
    "at_ran = soaplite.get_periodic_soap_structure(struct_ran, myAlphas, myBetas, rCut, NradBas, Lmax)\n",
    "mat_opt = soaplite.get_periodic_soap_structure(struct_opt, myAlphas, myBetas, rCut, NradBas, Lmax)\n",
    "np.save(\"res_data/mat_ran\",mat_ran)\n",
    "np.save(\"res_data/mat_opt\",mat_opt)"
   ]
  },
  {
   "cell_type": "code",
   "execution_count": 3,
   "metadata": {},
   "outputs": [],
   "source": [
    "# load matrices from storage\n",
    "mat_ran = np.load(\"res_data/mat_ran.npy\")\n",
    "mat_opt = np.load(\"res_data/mat_opt.npy\")"
   ]
  },
  {
   "cell_type": "code",
   "execution_count": 4,
   "metadata": {},
   "outputs": [],
   "source": [
    "# show random structure\n",
    "view(struct_ran)"
   ]
  },
  {
   "cell_type": "code",
   "execution_count": 5,
   "metadata": {},
   "outputs": [],
   "source": [
    "# show optimised structure\n",
    "view(struct_opt)"
   ]
  },
  {
   "cell_type": "code",
   "execution_count": 30,
   "metadata": {},
   "outputs": [
    {
     "data": {
      "text/plain": [
       "Text(0, 0.5, '$i(\\\\mathbf{r})$')"
      ]
     },
     "execution_count": 30,
     "metadata": {},
     "output_type": "execute_result"
    }
   ],
   "source": [
    "p.rc('text', usetex=True)\n",
    "p.imshow(mat_ran)\n",
    "p.colorbar(orientation='horizontal')\n",
    "p.xlabel(r\"$\\displaystyle P_{nn'l}^{\\mu \\nu}$\")\n",
    "p.ylabel(r\"$i(\\mathbf{r})$\")"
   ]
  },
  {
   "cell_type": "code",
   "execution_count": 29,
   "metadata": {},
   "outputs": [
    {
     "data": {
      "text/plain": [
       "Text(0, 0.5, '$i(\\\\mathbf{r})$')"
      ]
     },
     "execution_count": 29,
     "metadata": {},
     "output_type": "execute_result"
    }
   ],
   "source": [
    "p.rc('text', usetex=True)\n",
    "p.imshow(mat_opt)\n",
    "p.colorbar(orientation='horizontal')\n",
    "p.xlabel(r\"$\\displaystyle P_{nn'l}^{\\mu \\nu}$\")\n",
    "p.ylabel(r\"$i(\\mathbf{r})$\")"
   ]
  },
  {
   "cell_type": "code",
   "execution_count": 63,
   "metadata": {},
   "outputs": [],
   "source": [
    "p.subplot(121)\n",
    "p.imshow(mat_ran)\n",
    "p.subplot(122)\n",
    "p.imshow(mat_opt)\n",
    "\n",
    "#p.subplots_adjust(bottom=0.1, right=1.1, top=0.9)\n",
    "#cax = p.axes([0.85, 0.1, 0.075, 0.8])\n",
    "p.colorbar(fraction=0.05)\n",
    "p.show()"
   ]
  },
  {
   "cell_type": "code",
   "execution_count": 74,
   "metadata": {},
   "outputs": [
    {
     "data": {
      "text/plain": [
       "<matplotlib.colorbar.Colorbar at 0x26bbc1c3f60>"
      ]
     },
     "execution_count": 74,
     "metadata": {},
     "output_type": "execute_result"
    }
   ],
   "source": [
    "fig, axs = p.subplots(1, 2, figsize=(9, 3), sharey=True)\n",
    "axs[0].imshow(mat_ran)\n",
    "axs[1].imshow(mat_opt)\n",
    "fig.colorbar(axs[0].imshow(mat_opt), ax=axs, orientation='horizontal', fraction=.15)"
   ]
  },
  {
   "cell_type": "code",
   "execution_count": 14,
   "metadata": {},
   "outputs": [
    {
     "data": {
      "text/plain": [
       "<matplotlib.legend.Legend at 0x21e95a8e6a0>"
      ]
     },
     "execution_count": 14,
     "metadata": {},
     "output_type": "execute_result"
    }
   ],
   "source": [
    "# show SVD plots\n",
    "s_ran = svd(mat_ran.transpose(), full_matrices=False, compute_uv=False)\n",
    "s_opt = svd(mat_opt.transpose(), full_matrices=False, compute_uv=False)\n",
    "\n",
    "p.semilogy(s_ran)\n",
    "p.semilogy(s_opt)\n",
    "p.xlabel('$i$')\n",
    "p.ylabel('Singular value $\\sigma_i$')\n",
    "p.legend(['random structure','optimised structure'])\n",
    "\n"
   ]
  },
  {
   "cell_type": "code",
   "execution_count": null,
   "metadata": {},
   "outputs": [],
   "source": []
  }
 ],
 "metadata": {
  "kernelspec": {
   "display_name": "Python 3",
   "language": "python",
   "name": "python3"
  },
  "language_info": {
   "codemirror_mode": {
    "name": "ipython",
    "version": 3
   },
   "file_extension": ".py",
   "mimetype": "text/x-python",
   "name": "python",
   "nbconvert_exporter": "python",
   "pygments_lexer": "ipython3",
   "version": "3.7.1"
  }
 },
 "nbformat": 4,
 "nbformat_minor": 2
}
