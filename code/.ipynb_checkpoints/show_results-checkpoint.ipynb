{
 "cells": [
  {
   "cell_type": "code",
   "execution_count": 1,
   "metadata": {
    "collapsed": false
   },
   "outputs": [
    {
     "name": "stdout",
     "output_type": "stream",
     "text": [
      "Using matplotlib backend: TkAgg\n"
     ]
    }
   ],
   "source": [
    "import ase\n",
    "from ase.visualize import view\n",
    "import struct_statistics as stats\n",
    "import matplotlib.pyplot as p\n",
    "import soaputils as su\n",
    "%matplotlib"
   ]
  },
  {
   "cell_type": "code",
   "execution_count": 2,
   "metadata": {
    "collapsed": false
   },
   "outputs": [
    {
     "name": "stdout",
     "output_type": "stream",
     "text": [
      "Density of struct: 0.030000 (A⁻3)\n"
     ]
    }
   ],
   "source": [
    "# structure resulting from svd optimization (l1-norm/l2-norm)\n",
    "# periodic boundaries\n",
    "struct1 = ase.io.read(\"res_structs/svd_normd_pbc.cfg\")\n",
    "view(struct1)\n",
    "hist, dist, histEdges = stats.computePPDF(struct1,binSize=0.1,numBins=80,projectedAxis=None)\n",
    "distBins = 0.5*(histEdges[1:]+histEdges[0:-1])\n",
    "h = p.plot(distBins,hist)\n",
    "p.xlabel(\"Distance in A\")\n",
    "p.legend(h,['Zr-Zr','Zr-Cu','Cu-Cu'])\n",
    "print(\"Density of struct: %f (A⁻3)\" %stats.density(struct1))"
   ]
  },
  {
   "cell_type": "code",
   "execution_count": 3,
   "metadata": {
    "collapsed": false
   },
   "outputs": [
    {
     "name": "stdout",
     "output_type": "stream",
     "text": [
      "Density of struct: 0.030000 (A⁻3)\n"
     ]
    }
   ],
   "source": [
    "# structure resulting from svd optimization (l1-norm/l2-norm) with different starting points\n",
    "struct2 = ase.io.read(\"res_structs/svd_normd_pbc_2.cfg\")\n",
    "view(struct2)\n",
    "hist, dist, histEdges = stats.computePPDF(struct2,binSize=0.1,numBins=80,projectedAxis=None)\n",
    "distBins = 0.5*(histEdges[1:]+histEdges[0:-1])\n",
    "h = p.plot(distBins,hist)\n",
    "p.xlabel(\"Distance in A\")\n",
    "p.legend(h,['Zr-Zr','Zr-Cu','Cu-Cu'])\n",
    "print(\"Density of struct: %f (A⁻3)\" %stats.density(struct2))"
   ]
  },
  {
   "cell_type": "code",
   "execution_count": 4,
   "metadata": {
    "collapsed": false
   },
   "outputs": [
    {
     "name": "stdout",
     "output_type": "stream",
     "text": [
      "Density of struct: 0.030000 (A⁻3)\n"
     ]
    }
   ],
   "source": [
    "# structure resulting from svd optimization (l1-norm/l2-norm)\n",
    "# non periodic boundaries\n",
    "struct3 = ase.io.read(\"res_structs/svd_normd_npbc.cfg\")\n",
    "view(struct3)\n",
    "hist, dist, histEdges = stats.computePPDF(struct3,binSize=0.1,numBins=80,projectedAxis=None)\n",
    "distBins = 0.5*(histEdges[1:]+histEdges[0:-1])\n",
    "h = p.plot(distBins,hist)\n",
    "p.xlabel(\"Distance in A\")\n",
    "p.legend(h,['Zr-Zr','Zr-Cu','Cu-Cu'])\n",
    "print(\"Density of struct: %f (A⁻3)\" %stats.density(struct3))"
   ]
  },
  {
   "cell_type": "code",
   "execution_count": 5,
   "metadata": {
    "collapsed": false
   },
   "outputs": [
    {
     "name": "stdout",
     "output_type": "stream",
     "text": [
      "Density of struct: 0.057656 (A⁻3)\n"
     ]
    }
   ],
   "source": [
    "struct4 = ase.io.read(\"res_structs/dump_50A.cfg\")\n",
    "view(struct4)\n",
    "hist, dist, histEdges = stats.computePPDF(struct4,binSize=0.1,numBins=250,projectedAxis=None)\n",
    "distBins = 0.5*(histEdges[1:]+histEdges[0:-1])\n",
    "h = p.plot(distBins,hist)\n",
    "p.xlabel(\"Distance in A\")\n",
    "p.legend(h,['Zr-Zr','Zr-Cu','Cu-Cu'])\n",
    "print(\"Density of struct: %f (A⁻3)\" %stats.density(struct4))"
   ]
  },
  {
   "cell_type": "code",
   "execution_count": 19,
   "metadata": {
    "collapsed": false
   },
   "outputs": [
    {
     "name": "stdout",
     "output_type": "stream",
     "text": [
      "Density of struct: 0.030000 (A⁻3)\n",
      "[[13.26352403  0.          0.        ]\n",
      " [ 0.         13.26352403  0.        ]\n",
      " [ 0.          0.         13.26352403]]\n"
     ]
    }
   ],
   "source": [
    "struct5 = su.gen_struct(Natoms=70,seed=50)\n",
    "struct5.set_pbc((1,1,1))\n",
    "view(struct5)\n",
    "hist, dist, histEdges = stats.computePPDF(struct5,binSize=0.1,numBins=80,projectedAxis=None)\n",
    "distBins = 0.5*(histEdges[1:]+histEdges[0:-1])\n",
    "h = p.plot(distBins,hist)\n",
    "p.xlabel(\"Distance in A\")\n",
    "p.legend(h,['Zr-Zr','Zr-Cu','Cu-Cu'])\n",
    "print(\"Density of struct: %f (A⁻3)\" %stats.density(struct5))\n",
    "print(struct5.get_cell())"
   ]
  },
  {
   "cell_type": "code",
   "execution_count": 20,
   "metadata": {
    "collapsed": false
   },
   "outputs": [
    {
     "name": "stdout",
     "output_type": "stream",
     "text": [
      "Density of struct: 0.030000 (A⁻3)\n",
      "[[13.263524  0.        0.      ]\n",
      " [ 0.       13.263524  0.      ]\n",
      " [ 0.        0.       13.263524]]\n"
     ]
    }
   ],
   "source": [
    "struct6 = ase.io.read(\"res_structs/svd_normd_C70.cfg\")\n",
    "view(struct6)\n",
    "hist, dist, histEdges = stats.computePPDF(struct6,binSize=0.1,numBins=80,projectedAxis=None)\n",
    "distBins = 0.5*(histEdges[1:]+histEdges[0:-1])\n",
    "h = p.plot(distBins,hist)\n",
    "p.xlabel(\"Distance in A\")\n",
    "p.legend(h,['Zr-Zr','Zr-Cu','Cu-Cu'])\n",
    "print(\"Density of struct: %f (A⁻3)\" %stats.density(struct6))\n",
    "print(struct6.get_cell())"
   ]
  },
  {
   "cell_type": "code",
   "execution_count": null,
   "metadata": {
    "collapsed": true
   },
   "outputs": [],
   "source": []
  }
 ],
 "metadata": {
  "kernelspec": {
   "display_name": "Python 3",
   "language": "python",
   "name": "python3"
  },
  "language_info": {
   "codemirror_mode": {
    "name": "ipython",
    "version": 3
   },
   "file_extension": ".py",
   "mimetype": "text/x-python",
   "name": "python",
   "nbconvert_exporter": "python",
   "pygments_lexer": "ipython3",
   "version": "3.5.3"
  }
 },
 "nbformat": 4,
 "nbformat_minor": 2
}
