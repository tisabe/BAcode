{
 "cells": [
  {
   "cell_type": "code",
   "execution_count": 2,
   "metadata": {
    "collapsed": true
   },
   "outputs": [],
   "source": [
    "import os,sys,inspect\n",
    "currentdir = os.path.dirname(os.path.abspath(inspect.getfile(inspect.currentframe())))\n",
    "parentdir = os.path.dirname(currentdir)\n",
    "sys.path.insert(0,parentdir) \n",
    "\n",
    "import soaplite\n",
    "import soaputils as su\n",
    "import genBasis\n",
    "import ase\n",
    "from ase.visualize import view\n",
    "from ase.build import bulk\n",
    "import numpy as np\n",
    "from numpy.linalg import svd\n",
    "import matplotlib as matplotlib\n",
    "import matplotlib.pyplot as p\n",
    "import numpy.linalg as nl\n",
    "from scipy.optimize import fmin\n",
    "import scipy.optimize as op\n",
    "import time\n",
    "from random import shuffle\n",
    "%matplotlib inline"
   ]
  },
  {
   "cell_type": "code",
   "execution_count": 4,
   "metadata": {
    "collapsed": true
   },
   "outputs": [],
   "source": [
    "rCut = 10.0\n",
    "NradBas = 5\n",
    "Lmax = 5\n",
    "myAlphas, myBetas = genBasis.getBasisFunc(rCut, NradBas)"
   ]
  },
  {
   "cell_type": "code",
   "execution_count": 34,
   "metadata": {
    "collapsed": false
   },
   "outputs": [
    {
     "name": "stdout",
     "output_type": "stream",
     "text": [
      "170358.6501814711\n",
      "156508.39331981342\n"
     ]
    }
   ],
   "source": [
    "struct1 = bulk('Cu', 'fcc', a=3.6, cubic=True)\n",
    "struct1l = soaplite._get_supercell(struct1, rCut=2.0)\n",
    "struct1lr = su.rand_pos(struct1l)\n",
    "mat1 = soaplite.get_periodic_soap_structure(struct1, myAlphas, myBetas, rCut, NradBas, Lmax)\n",
    "mat1l = soaplite.get_periodic_soap_structure(struct1l, myAlphas, myBetas, rCut, NradBas, Lmax)\n",
    "mat1lr = soaplite.get_periodic_soap_structure(struct1lr, myAlphas, myBetas, rCut, NradBas, Lmax)\n",
    "#p.matshow(mat1l)\n",
    "#p.matshow(mat1lr)\n",
    "print(nl.norm(np.var(mat1l,0)))\n",
    "print(nl.norm(np.var(mat1lr,0)))"
   ]
  },
  {
   "cell_type": "code",
   "execution_count": null,
   "metadata": {
    "collapsed": true
   },
   "outputs": [],
   "source": []
  }
 ],
 "metadata": {
  "kernelspec": {
   "display_name": "Python 3",
   "language": "python",
   "name": "python3"
  },
  "language_info": {
   "codemirror_mode": {
    "name": "ipython",
    "version": 3
   },
   "file_extension": ".py",
   "mimetype": "text/x-python",
   "name": "python",
   "nbconvert_exporter": "python",
   "pygments_lexer": "ipython3",
   "version": "3.5.3"
  }
 },
 "nbformat": 4,
 "nbformat_minor": 2
}
