{
 "cells": [
  {
   "cell_type": "code",
   "execution_count": 1,
   "metadata": {},
   "outputs": [],
   "source": [
    "import ase\n",
    "import numpy as np\n",
    "from ase.visualize import view\n",
    "import struct_statistics as stats\n",
    "import matplotlib.pyplot as p\n",
    "import soaputils as su\n",
    "%matplotlib qt5\n",
    "p.ion()"
   ]
  },
  {
   "cell_type": "code",
   "execution_count": 32,
   "metadata": {},
   "outputs": [
    {
     "name": "stdout",
     "output_type": "stream",
     "text": [
      "0\n",
      "1\n",
      "2\n",
      "3\n",
      "4\n",
      "5\n",
      "6\n",
      "7\n",
      "8\n",
      "9\n",
      "[[13.26  0.    0.  ]\n",
      " [ 0.   13.26  0.  ]\n",
      " [ 0.    0.   13.26]]\n"
     ]
    }
   ],
   "source": [
    "# average PDF/RDF of dump file structs with single species\n",
    "N = 10\n",
    "Nbins = 150\n",
    "hists = np.zeros((N,Nbins))\n",
    "struct_dump = ase.io.read(\"res_structs/dump_50A.cfg\")\n",
    "nums = struct_dump.get_atomic_numbers()\n",
    "nums = [1 for i in nums]\n",
    "struct_dump.set_atomic_numbers(nums)\n",
    "\n",
    "for i in np.arange(N):\n",
    "    print(i)\n",
    "    struct = su.ran_sample(struct_dump,(13.26,13.26,13.26),seed=50+i)\n",
    "    struct.set_pbc((1,1,1))\n",
    "    hist, distBins = stats.simpleRDF(struct, numBins=Nbins, rCut=15)\n",
    "    hists[i,:] = hist\n",
    "    #hists[i,:] = hist[:]\n",
    "meanHist = np.mean(hists,0)\n",
    "p.plot(distBins,meanHist)\n",
    "#p.xlabel(\"Distance in A\")\n",
    "#p.legend(h,['Zr-Zr','Zr-Cu','Cu-Cu'])\n",
    "p.xlabel('r [$\\AA$]')\n",
    "p.ylabel('$g(r)$')\n",
    "print(struct.get_cell())"
   ]
  },
  {
   "cell_type": "code",
   "execution_count": 33,
   "metadata": {},
   "outputs": [
    {
     "data": {
      "text/plain": [
       "Text(0, 0.5, '$g(r)$')"
      ]
     },
     "execution_count": 33,
     "metadata": {},
     "output_type": "execute_result"
    }
   ],
   "source": [
    "p.plot(distBins,meanHist)\n",
    "p.xlabel('r [$\\AA$]')\n",
    "p.ylabel('$g(r)$')"
   ]
  },
  {
   "cell_type": "code",
   "execution_count": 34,
   "metadata": {},
   "outputs": [
    {
     "name": "stdout",
     "output_type": "stream",
     "text": [
      "0\n",
      "1\n",
      "2\n",
      "3\n",
      "4\n",
      "5\n",
      "6\n",
      "7\n",
      "8\n",
      "9\n"
     ]
    },
    {
     "data": {
      "text/plain": [
       "Text(0, 0.5, '$g(r)$')"
      ]
     },
     "execution_count": 34,
     "metadata": {},
     "output_type": "execute_result"
    }
   ],
   "source": [
    "for i in np.arange(N):\n",
    "    print(i)\n",
    "    filename = \"batch\" + str(i) + \".cfg\"\n",
    "    struct = ase.io.read(\"res_structs/x0_test/\" + filename)\n",
    "    struct.set_pbc((1,1,1))\n",
    "    hist, distBins2 = stats.simpleRDF(struct, numBins=Nbins, rCut=15)\n",
    "    hist[0] = 0 # batch6 has a problem with the zeroth bin\n",
    "    hists[i,:] = hist\n",
    "    p.plot(distBins2,hist, label=str(i))\n",
    "    #hists[i,:] = hist[:]\n",
    "p.legend()\n",
    "meanHist2 = np.mean(hists,0)\n",
    "p.xlabel('r [$\\AA$]')\n",
    "p.ylabel('$g(r)$')"
   ]
  },
  {
   "cell_type": "code",
   "execution_count": 35,
   "metadata": {},
   "outputs": [
    {
     "name": "stdout",
     "output_type": "stream",
     "text": [
      "0\n",
      "1\n",
      "2\n",
      "3\n",
      "4\n",
      "5\n",
      "6\n",
      "7\n",
      "8\n",
      "9\n"
     ]
    },
    {
     "data": {
      "text/plain": [
       "Text(0, 0.5, '$g(r)$')"
      ]
     },
     "execution_count": 35,
     "metadata": {},
     "output_type": "execute_result"
    }
   ],
   "source": [
    "for i in np.arange(N):\n",
    "    print(i)\n",
    "    struct = su.gen_struct(70, seed = 50+i)\n",
    "    struct.set_pbc((1,1,1))\n",
    "    hist, distBins3 = stats.simpleRDF(struct, numBins=Nbins, rCut=15)\n",
    "    hist[0] = 0 # batch6 has a problem with the zeroth bin\n",
    "    hists[i,:] = hist\n",
    "    p.plot(distBins2,hist, label=str(i))\n",
    "    #hists[i,:] = hist[:]\n",
    "p.legend()\n",
    "meanHist3 = np.mean(hists,0)\n",
    "p.xlabel('r [$\\AA$]')\n",
    "p.ylabel('$g(r)$')"
   ]
  },
  {
   "cell_type": "code",
   "execution_count": 42,
   "metadata": {},
   "outputs": [
    {
     "data": {
      "text/plain": [
       "Text(0, 0.5, '$g(r)$')"
      ]
     },
     "execution_count": 42,
     "metadata": {},
     "output_type": "execute_result"
    }
   ],
   "source": [
    "p.plot(distBins,meanHist2,'C0', label='optimised structure')\n",
    "p.plot(distBins,meanHist3,'C3', label='random structure')\n",
    "\n",
    "#p.legend(['MD-simulated structure','mean of l1/l2 optimised structures'])\n",
    "p.legend()\n",
    "p.xlabel('r [$\\AA$]')\n",
    "p.ylabel('$g(r)$')"
   ]
  },
  {
   "cell_type": "code",
   "execution_count": 43,
   "metadata": {},
   "outputs": [
    {
     "data": {
      "text/plain": [
       "Text(0, 0.5, '$g(r)$')"
      ]
     },
     "execution_count": 43,
     "metadata": {},
     "output_type": "execute_result"
    }
   ],
   "source": [
    "p.plot(distBins,meanHist2,'C0', label='optimised structure')\n",
    "p.plot(distBins,meanHist,'C1', label='MD-simulated structure')\n",
    "\n",
    "#p.legend(['MD-simulated structure','mean of l1/l2 optimised structures'])\n",
    "p.legend()\n",
    "p.xlabel('r [$\\AA$]')\n",
    "p.ylabel('$g(r)$')"
   ]
  },
  {
   "cell_type": "code",
   "execution_count": null,
   "metadata": {},
   "outputs": [],
   "source": []
  }
 ],
 "metadata": {
  "kernelspec": {
   "display_name": "Python 3",
   "language": "python",
   "name": "python3"
  },
  "language_info": {
   "codemirror_mode": {
    "name": "ipython",
    "version": 3
   },
   "file_extension": ".py",
   "mimetype": "text/x-python",
   "name": "python",
   "nbconvert_exporter": "python",
   "pygments_lexer": "ipython3",
   "version": "3.7.1"
  }
 },
 "nbformat": 4,
 "nbformat_minor": 2
}
