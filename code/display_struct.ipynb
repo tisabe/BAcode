{
 "cells": [
  {
   "cell_type": "code",
   "execution_count": 1,
   "metadata": {},
   "outputs": [],
   "source": [
    "import ase\n",
    "import numpy as np\n",
    "from numpy.linalg import norm, svd\n",
    "from ase.visualize import view\n",
    "import struct_statistics as stats\n",
    "import matplotlib.pyplot as p\n",
    "import soaputils as su\n",
    "#%matplotlib"
   ]
  },
  {
   "cell_type": "code",
   "execution_count": 2,
   "metadata": {},
   "outputs": [],
   "source": [
    "# generate and read the two structures used in this notebook\n",
    "struct_ran = su.gen_struct(70, seed=50)\n",
    "struct_opt = ase.io.read('res_structs/x0_test/batch0.cfg')"
   ]
  },
  {
   "cell_type": "code",
   "execution_count": null,
   "metadata": {},
   "outputs": [],
   "source": [
    "# calculate SOAP-parameters and matrices, only works on linux systems, \n",
    "# so the matrices were pre-calculated can be loaded in the cell below\n",
    "import soaplite\n",
    "import genBasis\n",
    "rCut = 10.0\n",
    "NradBas = 5\n",
    "Lmax = 5\n",
    "myAlphas, myBetas = genBasis.getBasisFunc(rCut, NradBas)\n",
    "\n",
    "at_ran = soaplite.get_periodic_soap_structure(struct_ran, myAlphas, myBetas, rCut, NradBas, Lmax)\n",
    "mat_opt = soaplite.get_periodic_soap_structure(struct_opt, myAlphas, myBetas, rCut, NradBas, Lmax)\n",
    "np.save(\"res_data/mat_ran\",mat_ran)\n",
    "np.save(\"res_data/mat_opt\",mat_opt)"
   ]
  },
  {
   "cell_type": "code",
   "execution_count": 3,
   "metadata": {},
   "outputs": [],
   "source": [
    "# load matrices from storage\n",
    "mat_ran = np.load(\"res_data/mat_ran.npy\")\n",
    "mat_opt = np.load(\"res_data/mat_opt.npy\")"
   ]
  },
  {
   "cell_type": "code",
   "execution_count": 4,
   "metadata": {},
   "outputs": [],
   "source": [
    "# show random structure\n",
    "view(struct_ran)"
   ]
  },
  {
   "cell_type": "code",
   "execution_count": 5,
   "metadata": {},
   "outputs": [],
   "source": [
    "# show optimised structure\n",
    "view(struct_opt)"
   ]
  },
  {
   "cell_type": "code",
   "execution_count": 14,
   "metadata": {},
   "outputs": [
    {
     "data": {
      "text/plain": [
       "<matplotlib.legend.Legend at 0x21e95a8e6a0>"
      ]
     },
     "execution_count": 14,
     "metadata": {},
     "output_type": "execute_result"
    }
   ],
   "source": [
    "# show SVD plots\n",
    "s_ran = svd(mat_ran.transpose(), full_matrices=False, compute_uv=False)\n",
    "s_opt = svd(mat_opt.transpose(), full_matrices=False, compute_uv=False)\n",
    "\n",
    "p.semilogy(s_ran)\n",
    "p.semilogy(s_opt)\n",
    "p.xlabel('$i$')\n",
    "p.ylabel('Singular value $\\sigma_i$')\n",
    "p.legend(['random structure','optimised structure'])\n",
    "\n"
   ]
  },
  {
   "cell_type": "code",
   "execution_count": 19,
   "metadata": {},
   "outputs": [],
   "source": [
    "%matplotlib qt5\n",
    "from matplotlib import colors\n",
    "import matplotlib.pyplot as plt\n",
    "import numpy as np\n",
    "import matplotlib\n",
    "\n",
    "np.random.seed(19680801)\n",
    "Nr = 1\n",
    "Nc = 2\n",
    "cmap = \"inferno\"\n",
    "\n",
    "fig, axs = plt.subplots(Nr, Nc)\n",
    "#fig.suptitle('Multiple images')\n",
    "\n",
    "count = 0\n",
    "images = []\n",
    "data = mat_ran\n",
    "images.append(axs[0].imshow(data, cmap=cmap))\n",
    "axs[0].label_outer()\n",
    "axs[0].text(0.8, 0.95, '(a)', transform=axs[0].transAxes,\n",
    "      fontsize=16, va='top', color='w')\n",
    "axs[0].set_xticks([])\n",
    "axs[0].set_yticks([])\n",
    "axs[0].set_xlabel(r'$P(n,n´,l)$')\n",
    "axs[0].set_ylabel(r'$atom_i(r)$')\n",
    "\n",
    "data = mat_opt\n",
    "images.append(axs[1].imshow(data, cmap=cmap))\n",
    "axs[1].label_outer()\n",
    "axs[1].text(0.8, 0.95, '(b)', transform=axs[1].transAxes,\n",
    "      fontsize=16, va='top', color='w')\n",
    "axs[1].set_xticks([])\n",
    "axs[1].set_yticks([])\n",
    "axs[1].set_xlabel(r'$P(n,n´,l)$')\n",
    "axs[1].set_ylabel(r'$atom_i(r)$')\n",
    "\n",
    "# Find the min and max of all colors for use in setting the color scale.\n",
    "vmin = min(image.get_array().min() for image in images)\n",
    "vmax = max(image.get_array().max() for image in images)\n",
    "norm = colors.Normalize(vmin=vmin, vmax=vmax)\n",
    "for im in images:\n",
    "    im.set_norm(norm)\n",
    "\n",
    "fig.colorbar(images[0], ax=axs, orientation='horizontal', fraction=.1)\n",
    "\n",
    "def update(changed_image):\n",
    "    for im in images:\n",
    "        if (changed_image.get_cmap() != im.get_cmap()\n",
    "                or changed_image.get_clim() != im.get_clim()):\n",
    "            im.set_cmap(changed_image.get_cmap())\n",
    "            im.set_clim(changed_image.get_clim())\n",
    "\n",
    "\n",
    "for im in images:\n",
    "    im.callbacksSM.connect('changed', update)\n",
    "\n",
    "\n",
    "plt.show()"
   ]
  },
  {
   "cell_type": "code",
   "execution_count": null,
   "metadata": {},
   "outputs": [],
   "source": []
  }
 ],
 "metadata": {
  "kernelspec": {
   "display_name": "Python 3",
   "language": "python",
   "name": "python3"
  },
  "language_info": {
   "codemirror_mode": {
    "name": "ipython",
    "version": 3
   },
   "file_extension": ".py",
   "mimetype": "text/x-python",
   "name": "python",
   "nbconvert_exporter": "python",
   "pygments_lexer": "ipython3",
   "version": "3.7.1"
  }
 },
 "nbformat": 4,
 "nbformat_minor": 2
}
