{
 "cells": [
  {
   "cell_type": "code",
   "execution_count": 6,
   "metadata": {},
   "outputs": [],
   "source": [
    "import ase\n",
    "import numpy as np\n",
    "from numpy.linalg import norm, svd\n",
    "from ase.visualize import view\n",
    "import struct_statistics as stats\n",
    "import matplotlib.pyplot as p\n",
    "import soaputils as su\n",
    "#%matplotlib"
   ]
  },
  {
   "cell_type": "code",
   "execution_count": 7,
   "metadata": {},
   "outputs": [],
   "source": [
    "# generate and read the two structures used in this notebook\n",
    "struct_ran = su.gen_struct(70, seed=50)\n",
    "struct_opt = ase.io.read('res_structs/x0_test/batch0.cfg')"
   ]
  },
  {
   "cell_type": "code",
   "execution_count": null,
   "metadata": {},
   "outputs": [],
   "source": [
    "# calculate SOAP-parameters and matrices, only works on linux systems, \n",
    "# so the matrices were pre-calculated can be loaded in the cell below\n",
    "import soaplite\n",
    "import genBasis\n",
    "rCut = 10.0\n",
    "NradBas = 5\n",
    "Lmax = 5\n",
    "myAlphas, myBetas = genBasis.getBasisFunc(rCut, NradBas)\n",
    "\n",
    "at_ran = soaplite.get_periodic_soap_structure(struct_ran, myAlphas, myBetas, rCut, NradBas, Lmax)\n",
    "mat_opt = soaplite.get_periodic_soap_structure(struct_opt, myAlphas, myBetas, rCut, NradBas, Lmax)\n",
    "np.save(\"res_data/mat_ran\",mat_ran)\n",
    "np.save(\"res_data/mat_opt\",mat_opt)"
   ]
  },
  {
   "cell_type": "code",
   "execution_count": 8,
   "metadata": {},
   "outputs": [],
   "source": [
    "# load matrices from storage\n",
    "mat_ran = np.load(\"res_data/mat_ran.npy\")\n",
    "mat_opt = np.load(\"res_data/mat_opt.npy\")"
   ]
  },
  {
   "cell_type": "code",
   "execution_count": 9,
   "metadata": {},
   "outputs": [],
   "source": [
    "# show random structure\n",
    "view(struct_ran)"
   ]
  },
  {
   "cell_type": "code",
   "execution_count": 10,
   "metadata": {},
   "outputs": [],
   "source": [
    "# show optimised structure\n",
    "view(struct_opt)"
   ]
  },
  {
   "cell_type": "code",
   "execution_count": 12,
   "metadata": {},
   "outputs": [],
   "source": [
    "# show matrices\n",
    "%matplotlib qt5\n",
    "fig, axs = p.subplots(1, 2)\n",
    "p.subplot(1,2,1)\n",
    "p.imshow(mat_ran)\n",
    "\n",
    "p.subplot(1,2,2)\n",
    "p.imshow(mat_opt)\n",
    "\n",
    "#p.colorbar()\n",
    "p.colorbar(orientation='horizontal')\n",
    "p.show()"
   ]
  },
  {
   "cell_type": "code",
   "execution_count": 13,
   "metadata": {},
   "outputs": [],
   "source": [
    "from mpl_toolkits.axes_grid1 import make_axes_locatable\n",
    "\n",
    "fig, axes = p.subplots(nrows=1, ncols=2)\n",
    "for ax in axes.flat:\n",
    "    im = ax.imshow(mat_ran)\n",
    "\n",
    "fig.subplots_adjust(right=0.8)\n",
    "#cbar_ax = fig.add_axes([0.85, 0.15, 0.05, 0.7])\n",
    "divider = make_axes_locatable(ax)\n",
    "cax = divider.append_axes(\"right\", size=\"5%\", pad=0.05)\n",
    "\n",
    "p.colorbar(im, cax=cax)\n",
    "p.show()"
   ]
  },
  {
   "cell_type": "code",
   "execution_count": 14,
   "metadata": {},
   "outputs": [
    {
     "data": {
      "text/plain": [
       "<matplotlib.legend.Legend at 0x21e95a8e6a0>"
      ]
     },
     "execution_count": 14,
     "metadata": {},
     "output_type": "execute_result"
    }
   ],
   "source": [
    "# show SVD plots\n",
    "s_ran = svd(mat_ran.transpose(), full_matrices=False, compute_uv=False)\n",
    "s_opt = svd(mat_opt.transpose(), full_matrices=False, compute_uv=False)\n",
    "\n",
    "p.semilogy(s_ran)\n",
    "p.semilogy(s_opt)\n",
    "p.xlabel('$i$')\n",
    "p.ylabel('Singular value $\\sigma_i$')\n",
    "p.legend(['random structure','optimised structure'])\n",
    "\n"
   ]
  },
  {
   "cell_type": "code",
   "execution_count": null,
   "metadata": {},
   "outputs": [],
   "source": []
  }
 ],
 "metadata": {
  "kernelspec": {
   "display_name": "Python 3",
   "language": "python",
   "name": "python3"
  },
  "language_info": {
   "codemirror_mode": {
    "name": "ipython",
    "version": 3
   },
   "file_extension": ".py",
   "mimetype": "text/x-python",
   "name": "python",
   "nbconvert_exporter": "python",
   "pygments_lexer": "ipython3",
   "version": "3.7.1"
  }
 },
 "nbformat": 4,
 "nbformat_minor": 2
}
