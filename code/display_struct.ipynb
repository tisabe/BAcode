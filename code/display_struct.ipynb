{
 "cells": [
  {
   "cell_type": "code",
   "execution_count": 73,
   "metadata": {},
   "outputs": [],
   "source": [
    "import ase\n",
    "import numpy as np\n",
    "from numpy.linalg import norm, svd\n",
    "from ase.visualize import view\n",
    "import struct_statistics as stats\n",
    "import matplotlib.pyplot as p\n",
    "import soaputils as su\n",
    "#%matplotlib"
   ]
  },
  {
   "cell_type": "code",
   "execution_count": 2,
   "metadata": {},
   "outputs": [],
   "source": [
    "struct_ran = su.gen_struct(70, seed=50)\n",
    "struct_opt = ase.io.read('res_structs/x0_test/batch0.cfg')"
   ]
  },
  {
   "cell_type": "code",
   "execution_count": null,
   "metadata": {},
   "outputs": [],
   "source": [
    "import soaplite\n",
    "import genBasis\n",
    "rCut = 10.0\n",
    "NradBas = 5\n",
    "Lmax = 5\n",
    "myAlphas, myBetas = genBasis.getBasisFunc(rCut, NradBas)\n",
    "\n",
    "at_ran = soaplite.get_periodic_soap_structure(struct_ran, myAlphas, myBetas, rCut, NradBas, Lmax)\n",
    "mat_opt = soaplite.get_periodic_soap_structure(struct_opt, myAlphas, myBetas, rCut, NradBas, Lmax)\n",
    "np.save(\"res_data/mat_ran\",mat_ran)\n",
    "np.save(\"res_data/mat_opt\",mat_opt)"
   ]
  },
  {
   "cell_type": "code",
   "execution_count": 3,
   "metadata": {},
   "outputs": [],
   "source": [
    "mat_ran = np.load(\"res_data/mat_ran.npy\")\n",
    "mat_opt = np.load(\"res_data/mat_opt.npy\")"
   ]
  },
  {
   "cell_type": "code",
   "execution_count": 16,
   "metadata": {},
   "outputs": [],
   "source": [
    "def display_unit_cell(struct):\n",
    "    unit_cell = struct.get_cell() \n",
    "    positions_in_A = struct.get_positions()\n",
    "    types = struct.get_chemical_symbols()\n",
    "    Z = struct.get_atomic_numbers()\n",
    "    Z[1] = 0\n",
    "    # display the atom positions:\n",
    "    p.scatter(positions_in_A[:,0],positions_in_A[:,1],5*Z,'b')\n",
    "    \n",
    "    # display the unit cell boundary:\n",
    "    for j1 in range(3):\n",
    "        for j2 in range(3):\n",
    "            if j1 != j2:\n",
    "                for j3 in range(3):\n",
    "                    if (j2 != j3) and (j1 != j3):\n",
    "                        x = [0, unit_cell[j1,0]]+unit_cell[j2,0]+unit_cell[j3,0]\n",
    "                        y = [0, unit_cell[j1,1]]+unit_cell[j2,1]+unit_cell[j3,1]                        \n",
    "                    else:\n",
    "                        x = [0, unit_cell[j1,0]]+unit_cell[j2,0]\n",
    "                        y = [0, unit_cell[j1,1]]+unit_cell[j2,1]\n",
    "                    p.plot(x,y,'k')\n",
    "            else:\n",
    "                x = [0, unit_cell[j1,0]]\n",
    "                y = [0, unit_cell[j1,1]]            \n",
    "                p.plot(x,y,'k')\n",
    "    p.axis('equal');"
   ]
  },
  {
   "cell_type": "code",
   "execution_count": 17,
   "metadata": {},
   "outputs": [
    {
     "name": "stdout",
     "output_type": "stream",
     "text": [
      "70  atoms in a super cell volume of  2333.3333333333344  A^3, area in (001) projection: 13.263524026321305 x 13.263524026321305 A^2\n",
      "\n"
     ]
    }
   ],
   "source": [
    "# show random structure\n",
    "%matplotlib qt5\n",
    "structure = struct_ran.copy()\n",
    "Natom = structure.get_number_of_atoms()\n",
    "unit_cell_volume =structure.get_volume()\n",
    "unit_cell = structure.get_cell() \n",
    "xRange = unit_cell[0,0]\n",
    "yRange = unit_cell[1,1]\n",
    "print(Natom,\" atoms in a super cell volume of \",unit_cell_volume,\" A^3, area in (001) projection:\",xRange,\"x\",yRange,\"A^2\\n\")\n",
    "\n",
    "# rotate the cube to make it look 3D:\n",
    "structure.rotate(45,(1,1,1),rotate_cell=True)\n",
    "p.subplot(1,2,1)\n",
    "display_unit_cell(structure)\n",
    "p.title('rotated unit cell')\n",
    "\n",
    "# rotate back:\n",
    "structure.rotate(-45,(1,1,1),rotate_cell=True)\n",
    "p.subplot(1,2,2)\n",
    "display_unit_cell(structure)\n",
    "p.title('aligned unit cell, (001) projection')\n",
    "p.show()"
   ]
  },
  {
   "cell_type": "code",
   "execution_count": 11,
   "metadata": {},
   "outputs": [
    {
     "name": "stdout",
     "output_type": "stream",
     "text": [
      "70  atoms in a super cell volume of  2333.3333194419156  A^3, area in (001) projection: 13.263524 x 13.263524 A^2\n",
      "\n"
     ]
    }
   ],
   "source": [
    "# show optimised structure\n",
    "structure = struct_opt.copy()\n",
    "Natom = structure.get_number_of_atoms()\n",
    "unit_cell_volume =structure.get_volume()\n",
    "unit_cell = structure.get_cell() \n",
    "xRange = unit_cell[0,0]\n",
    "yRange = unit_cell[1,1]\n",
    "print(Natom,\" atoms in a super cell volume of \",unit_cell_volume,\" A^3, area in (001) projection:\",xRange,\"x\",yRange,\"A^2\\n\")\n",
    "\n",
    "# rotate the cube to make it look 3D:\n",
    "structure.rotate(45,(1,1,1),rotate_cell=True)\n",
    "p.subplot(1,2,1)\n",
    "display_unit_cell(structure)\n",
    "p.title('rotated unit cell')\n",
    "\n",
    "# rotate back:\n",
    "structure.rotate(-45,(1,1,1),rotate_cell=True)\n",
    "p.subplot(1,2,2)\n",
    "display_unit_cell(structure)\n",
    "p.title('aligned unit cell, (001) projection')\n",
    "p.show()"
   ]
  },
  {
   "cell_type": "code",
   "execution_count": 36,
   "metadata": {},
   "outputs": [],
   "source": [
    "# show matrices\n",
    "fig, axs = p.subplots(1, 2)\n",
    "p.subplot(1,2,1)\n",
    "p.imshow(mat_ran)\n",
    "\n",
    "p.subplot(1,2,2)\n",
    "p.imshow(mat_opt)\n",
    "\n",
    "#p.colorbar()\n",
    "p.colorbar(orientation='horizontal')\n",
    "p.show()"
   ]
  },
  {
   "cell_type": "code",
   "execution_count": 72,
   "metadata": {},
   "outputs": [],
   "source": [
    "from mpl_toolkits.axes_grid1 import make_axes_locatable\n",
    "\n",
    "fig, axes = p.subplots(nrows=1, ncols=2)\n",
    "for ax in axes.flat:\n",
    "    im = ax.imshow(mat_ran)\n",
    "\n",
    "fig.subplots_adjust(right=0.8)\n",
    "#cbar_ax = fig.add_axes([0.85, 0.15, 0.05, 0.7])\n",
    "divider = make_axes_locatable(ax)\n",
    "cax = divider.append_axes(\"right\", size=\"5%\", pad=0.05)\n",
    "\n",
    "p.colorbar(im, cax=cax)\n",
    "p.show()"
   ]
  },
  {
   "cell_type": "code",
   "execution_count": 81,
   "metadata": {},
   "outputs": [
    {
     "data": {
      "text/plain": [
       "<matplotlib.legend.Legend at 0x1f4b5041898>"
      ]
     },
     "execution_count": 81,
     "metadata": {},
     "output_type": "execute_result"
    }
   ],
   "source": [
    "# show SVD plots\n",
    "s_ran = svd(mat_ran.transpose(), full_matrices=False, compute_uv=False)\n",
    "s_opt = svd(mat_opt.transpose(), full_matrices=False, compute_uv=False)\n",
    "\n",
    "p.semilogy(s_ran)\n",
    "p.semilogy(s_opt)\n",
    "p.xlabel('$i$')\n",
    "p.ylabel('Singular value $\\sigma_i$')\n",
    "p.legend(['random structure','optimised structure'])\n",
    "\n"
   ]
  },
  {
   "cell_type": "code",
   "execution_count": null,
   "metadata": {},
   "outputs": [],
   "source": []
  }
 ],
 "metadata": {
  "kernelspec": {
   "display_name": "Python 3",
   "language": "python",
   "name": "python3"
  },
  "language_info": {
   "codemirror_mode": {
    "name": "ipython",
    "version": 3
   },
   "file_extension": ".py",
   "mimetype": "text/x-python",
   "name": "python",
   "nbconvert_exporter": "python",
   "pygments_lexer": "ipython3",
   "version": "3.7.1"
  }
 },
 "nbformat": 4,
 "nbformat_minor": 2
}
