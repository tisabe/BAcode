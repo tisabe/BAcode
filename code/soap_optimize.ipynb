{
 "cells": [
  {
   "cell_type": "code",
   "execution_count": 1,
   "metadata": {
    "collapsed": false
   },
   "outputs": [],
   "source": [
    "import os,sys,inspect\n",
    "currentdir = os.path.dirname(os.path.abspath(inspect.getfile(inspect.currentframe())))\n",
    "parentdir = os.path.dirname(currentdir)\n",
    "sys.path.insert(0,parentdir) \n",
    "\n",
    "import soaplite\n",
    "import soaputils as su\n",
    "import genBasis\n",
    "import ase\n",
    "from ase.visualize import view\n",
    "from ase.build import bulk\n",
    "import numpy as np\n",
    "from numpy.linalg import svd\n",
    "import matplotlib as matplotlib\n",
    "import matplotlib.pyplot as p\n",
    "import numpy.linalg as nl\n",
    "from scipy.optimize import fmin\n",
    "import scipy.optimize as op\n",
    "from scipy.spatial.distance import cdist\n",
    "import time\n",
    "%matplotlib notebook"
   ]
  },
  {
   "cell_type": "code",
   "execution_count": 2,
   "metadata": {
    "collapsed": false
   },
   "outputs": [],
   "source": [
    "rCut = 10.0\n",
    "NradBas = 5\n",
    "Lmax = 5\n",
    "myAlphas, myBetas = genBasis.getBasisFunc(rCut, NradBas)\n",
    "\n",
    "struct1 = ase.io.read(currentdir + \"/glass_cube_CuZr.cfg\")\n",
    "mat1 = soaplite.get_periodic_soap_structure(struct1, myAlphas, myBetas, rCut, NradBas, Lmax)\n",
    "\n",
    "struct2 = bulk('Cu', 'fcc', a=3.6, cubic=True)\n",
    "struct2 = soaplite._get_supercell(struct2, rCut=2.0)\n",
    "mat2 = soaplite.get_periodic_soap_structure(struct2, myAlphas, myBetas, rCut, NradBas, Lmax)\n",
    "\n",
    "a0 = 4.0\n",
    "c0 = 1*a0\n",
    "struct3 = bulk('Au', 'fcc', a=a0, cubic=True)\n",
    "struct3.set_cell(np.diag((a0,a0,c0)), scale_atoms=True)\n",
    "struct3.set_chemical_symbols(('Au','Cu','Cu','Au'))\n",
    "struct3 = soaplite._get_supercell(struct3, rCut=2.0)\n",
    "mat3 = soaplite.get_periodic_soap_structure(struct3, myAlphas, myBetas, rCut, NradBas, Lmax)\n",
    "\n",
    "#p.matshow(mat1)\n",
    "#p.matshow(mat3)"
   ]
  },
  {
   "cell_type": "code",
   "execution_count": null,
   "metadata": {
    "collapsed": false
   },
   "outputs": [],
   "source": [
    "# calculates the 'block norm'\n",
    "order = 2\n",
    "mat0 = mat1\n",
    "struct0 = struct1.copy()\n",
    "print(nl.norm(mat0, ord=order))\n",
    "symbols = struct0.get_chemical_symbols()\n",
    "uSym = len(np.unique(symbols))\n",
    "numBlocks = int(uSym*(uSym + 1)/2)\n",
    "rowsBlock = int(np.shape(mat1)[1]/numBlocks)\n",
    "print(rowsBlock)\n",
    "mat = np.zeros((np.shape(mat0)[0],1))\n",
    "frac = 0.17\n",
    "sumNorm = 0.0\n",
    "for i in np.arange(numBlocks):\n",
    "    mat = np.append(mat,mat0[:,i*rowsBlock+int(frac*rowsBlock):(i+1)*rowsBlock],axis=1)\n",
    "    #mat = mat1[:,i*rowsBlock:(i+1)*rowsBlock]\n",
    "    #sumNorm += np.power(nl.norm(mat[:,int(frac*rowsBlock):],ord=order),order)\n",
    "#sumNorm = np.power(sumNorm,1/ord)\n",
    "p.matshow(mat)\n",
    "print(nl.norm(mat,ord=order))"
   ]
  },
  {
   "cell_type": "code",
   "execution_count": null,
   "metadata": {
    "collapsed": false
   },
   "outputs": [],
   "source": [
    "# optimization with matrix-norm as function and unit cell as bounds\n",
    "atoms_test = struct1.copy()\n",
    "atoms_test.set_cell(10 * np.identity(3))\n",
    "atoms_test = su.limit_pos(atoms_test)\n",
    "x0 = su.rand_pos(atoms_test).get_positions()\n",
    "t0 = time.time()\n",
    "N = len(atoms_test.get_positions())*3\n",
    "print('Number of Atoms: %i' %(N/3))\n",
    "bounds_obj = [(0,10)]*N\n",
    "su.show_res(atoms_test, x0, myAlphas, myBetas, rCut=10.0, NradBas=5, Lmax=5, pbc=True)\n",
    "op_options = {'maxiter': 50000, 'disp': True}\n",
    "res_obj = op.minimize(su.soap_norm, x0, method='L-BFGS-B',args=(atoms_test, myAlphas, myBetas, rCut, NradBas, Lmax, True, True),bounds=bounds_obj,  options=op_options)\n",
    "t1 = time.time()\n",
    "dt = t1 - t0\n",
    "print('Time passed: %f s' %dt)\n",
    "print('Iterations: %i' %res_obj.nit)\n",
    "xopt = res_obj.x\n",
    "su.show_res(atoms_test, xopt, myAlphas, myBetas, rCut=10.0, NradBas=5, Lmax=5, pbc=True)"
   ]
  },
  {
   "cell_type": "code",
   "execution_count": null,
   "metadata": {
    "collapsed": false
   },
   "outputs": [],
   "source": [
    "# optimization with block-norm as function and unit cell as bounds\n",
    "atoms_test = struct1.copy()\n",
    "atoms_test.set_cell(10 * np.identity(3))\n",
    "atoms_test = su.limit_pos(atoms_test)\n",
    "x0 = su.rand_pos(atoms_test).get_positions()\n",
    "t0 = time.time()\n",
    "N = len(atoms_test.get_positions())*3\n",
    "print('Number of Atoms: %i' %(N/3))\n",
    "bounds_obj = [(0,10)]*N\n",
    "periodic = False\n",
    "su.show_res(atoms_test, x0, myAlphas, myBetas, rCut=10.0, NradBas=5, Lmax=5, pbc=True)\n",
    "op_options = {'maxiter': 50000, 'disp': True}\n",
    "res_obj = op.minimize(su.norm_block, x0, method='L-BFGS-B',args=(atoms_test, 2, 0.3, myAlphas, myBetas, rCut, NradBas, Lmax, periodic),bounds=bounds_obj,  options=op_options)\n",
    "t1 = time.time()\n",
    "dt = t1 - t0\n",
    "print('Time passed: %f s' %dt)\n",
    "print('Iterations: %i' %res_obj.nit)\n",
    "xopt = res_obj.x\n",
    "su.show_res(atoms_test, xopt, myAlphas, myBetas, rCut=10.0, NradBas=5, Lmax=5, pbc=periodic)"
   ]
  },
  {
   "cell_type": "code",
   "execution_count": null,
   "metadata": {
    "collapsed": false,
    "scrolled": true
   },
   "outputs": [],
   "source": [
    "atoms_test.set_positions(np.reshape(xopt,(30,3)))\n",
    "view(atoms_test)\n",
    "print(atoms_test.get_positions())"
   ]
  },
  {
   "cell_type": "code",
   "execution_count": null,
   "metadata": {
    "collapsed": false
   },
   "outputs": [],
   "source": [
    "atoms_test = struct1.copy()\n",
    "atoms_test.set_cell(10 * np.identity(3))\n",
    "atoms_test = su.limit_pos(atoms_test)\n",
    "atoms_test = su.rand_pos(atoms_test)\n",
    "atoms_test = su.lim_overlap(atoms_test, 3)\n",
    "view(atoms_test)\n",
    "\n",
    "x0 = atoms_test.get_positions()\n",
    "t0 = time.time()\n",
    "N = len(atoms_test.get_positions())*3\n",
    "print('Number of Atoms: %i' %(N/3))\n",
    "bounds_obj = [(0,10)]*N\n",
    "su.show_res(atoms_test, x0, myAlphas, myBetas, rCut=10.0, NradBas=5, Lmax=5, pbc=True)\n",
    "op_options = {'maxiter': 50000, 'disp': True}\n",
    "res_obj = op.minimize(su.soap_norm, x0, method='SLSQP',args=(atoms_test, myAlphas, myBetas, rCut, NradBas, Lmax, True, True),bounds=bounds_obj,  options=op_options)\n",
    "t1 = time.time()\n",
    "dt = t1 - t0\n",
    "print('Time passed: %f s' %dt)\n",
    "print('Iterations: %i' %res_obj.nit)\n",
    "xopt = res_obj.x\n",
    "su.show_res(atoms_test, xopt, myAlphas, myBetas, rCut=10.0, NradBas=5, Lmax=5, pbc=True)"
   ]
  },
  {
   "cell_type": "code",
   "execution_count": null,
   "metadata": {
    "collapsed": false
   },
   "outputs": [],
   "source": [
    "#cons = [{'type':'eq', 'fun': con},\n",
    " #       {'type':'eq', 'fun': con_real}]"
   ]
  },
  {
   "cell_type": "code",
   "execution_count": 6,
   "metadata": {
    "collapsed": true
   },
   "outputs": [],
   "source": [
    "dist1 = struct1.get_all_distances(mic=False)\n",
    "x = struct1.get_positions()\n",
    "dist2 = cdist(x,x)"
   ]
  },
  {
   "cell_type": "code",
   "execution_count": 16,
   "metadata": {
    "collapsed": true
   },
   "outputs": [],
   "source": [
    "def cons(x):\n",
    "    dist = cdist(x,x)\n",
    "    np.fill_diagonal(dist,10.0)\n",
    "    dist = np.reshape(dist,(-1,))\n",
    "    amin = np.amin(dist)\n",
    "    dist[:] = [x-amin for x in dist]\n",
    "    return dist"
   ]
  },
  {
   "cell_type": "code",
   "execution_count": 20,
   "metadata": {
    "collapsed": false
   },
   "outputs": [
    {
     "data": {
      "text/plain": [
       "0.0"
      ]
     },
     "execution_count": 20,
     "metadata": {},
     "output_type": "execute_result"
    }
   ],
   "source": [
    "np.amin(cons(x))"
   ]
  },
  {
   "cell_type": "code",
   "execution_count": null,
   "metadata": {
    "collapsed": true
   },
   "outputs": [],
   "source": []
  }
 ],
 "metadata": {
  "kernelspec": {
   "display_name": "Python 3",
   "language": "python",
   "name": "python3"
  },
  "language_info": {
   "codemirror_mode": {
    "name": "ipython",
    "version": 3
   },
   "file_extension": ".py",
   "mimetype": "text/x-python",
   "name": "python",
   "nbconvert_exporter": "python",
   "pygments_lexer": "ipython3",
   "version": "3.5.3"
  }
 },
 "nbformat": 4,
 "nbformat_minor": 2
}
