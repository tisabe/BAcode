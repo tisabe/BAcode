{
 "cells": [
  {
   "cell_type": "code",
   "execution_count": 1,
   "metadata": {},
   "outputs": [],
   "source": [
    "import os,sys,inspect\n",
    "currentdir = os.path.dirname(os.path.abspath(inspect.getfile(inspect.currentframe())))\n",
    "parentdir = os.path.dirname(currentdir)\n",
    "sys.path.insert(0,parentdir) \n",
    "\n",
    "import soaplite\n",
    "import soaputils as su\n",
    "import struct_statistics as stats\n",
    "import genBasis\n",
    "import ase\n",
    "from ase.visualize import view\n",
    "from ase.build import bulk\n",
    "import numpy as np\n",
    "from numpy.linalg import svd\n",
    "import matplotlib as matplotlib\n",
    "import matplotlib.pyplot as p\n",
    "import numpy.linalg as nl\n",
    "from scipy.optimize import fmin\n",
    "import scipy.optimize as op\n",
    "from scipy.spatial.distance import cdist\n",
    "import time\n",
    "%matplotlib notebook"
   ]
  },
  {
   "cell_type": "code",
   "execution_count": 2,
   "metadata": {},
   "outputs": [],
   "source": [
    "rCut = 10.0\n",
    "NradBas = 5\n",
    "Lmax = 5\n",
    "myAlphas, myBetas = genBasis.getBasisFunc(rCut, NradBas)\n",
    "\n",
    "struct1 = ase.io.read(currentdir + \"/glass_cube_CuZr.cfg\")\n",
    "mat1 = soaplite.get_periodic_soap_structure(struct1, myAlphas, myBetas, rCut, NradBas, Lmax)\n",
    "\n",
    "struct2 = bulk('Cu', 'fcc', a=3.6, cubic=True)\n",
    "struct2 = soaplite._get_supercell(struct2, rCut=2.0)\n",
    "mat2 = soaplite.get_periodic_soap_structure(struct2, myAlphas, myBetas, rCut, NradBas, Lmax)\n",
    "\n",
    "a0 = 4.0\n",
    "c0 = 1*a0\n",
    "struct3 = bulk('Au', 'fcc', a=a0, cubic=True)\n",
    "struct3.set_cell(np.diag((a0,a0,c0)), scale_atoms=True)\n",
    "struct3.set_chemical_symbols(('Au','Cu','Cu','Au'))\n",
    "struct3 = soaplite._get_supercell(struct3, rCut=2.0)\n",
    "mat3 = soaplite.get_periodic_soap_structure(struct3, myAlphas, myBetas, rCut, NradBas, Lmax)\n",
    "\n",
    "#p.matshow(mat1)\n",
    "#p.matshow(mat3)"
   ]
  },
  {
   "cell_type": "code",
   "execution_count": null,
   "metadata": {},
   "outputs": [],
   "source": [
    "rmin = 5\n",
    "def cons(x):\n",
    "    x = np.reshape(x,(-1,3))\n",
    "    dist = cdist(x,x)\n",
    "    np.fill_diagonal(dist,10.0)\n",
    "    dist = np.reshape(dist,(-1,))\n",
    "    amin = np.amin(dist)\n",
    "    dist[:] = [x-amin-rmin for x in dist]\n",
    "    return dist\n",
    "#ineq_cons = {'type': 'ineq', 'fun': lambda x:  cons(x)}\n",
    "ineq_cons = {'type': 'ineq', 'fun': lambda x:  cons(x)}"
   ]
  },
  {
   "cell_type": "code",
   "execution_count": null,
   "metadata": {},
   "outputs": [],
   "source": [
    "# optimization with matrix-norm as function and unit cell as bounds\n",
    "atoms_test = struct1.copy()\n",
    "atoms_test.set_cell(10 * np.identity(3))\n",
    "atoms_test = su.limit_pos(atoms_test)\n",
    "x0 = su.rand_pos(atoms_test).get_positions()\n",
    "t0 = time.time()\n",
    "N = len(atoms_test.get_positions())*3\n",
    "print('Number of Atoms: %i' %(N/3))\n",
    "bounds_obj = [(0,10)]*N\n",
    "su.show_res(atoms_test, x0, myAlphas, myBetas, rCut=10.0, NradBas=5, Lmax=5, pbc=True)\n",
    "op_options = {'maxiter': 50000, 'disp': True}\n",
    "res_obj = op.minimize(su.soap_norm, x0, method='L-BFGS-B',args=(atoms_test, myAlphas, myBetas, rCut, NradBas, Lmax, True, True),bounds=bounds_obj,  options=op_options)\n",
    "t1 = time.time()\n",
    "dt = t1 - t0\n",
    "print('Time passed: %f s' %dt)\n",
    "print('Iterations: %i' %res_obj.nit)\n",
    "xopt = res_obj.x\n",
    "su.show_res(atoms_test, xopt, myAlphas, myBetas, rCut=10.0, NradBas=5, Lmax=5, pbc=True)"
   ]
  },
  {
   "cell_type": "code",
   "execution_count": null,
   "metadata": {},
   "outputs": [],
   "source": [
    "# optimization with block-norm as function and unit cell as bounds\n",
    "atoms_test = struct1.copy()\n",
    "atoms_test.set_cell(10 * np.identity(3))\n",
    "atoms_test = su.limit_pos(atoms_test)\n",
    "x0 = su.rand_pos(atoms_test).get_positions()\n",
    "t0 = time.time()\n",
    "N = len(atoms_test.get_positions())*3\n",
    "print('Number of Atoms: %i' %(N/3))\n",
    "bounds_obj = [(0,10)]*N\n",
    "periodic = False\n",
    "su.show_res(atoms_test, x0, myAlphas, myBetas, rCut=10.0, NradBas=5, Lmax=5, pbc=True)\n",
    "op_options = {'maxiter': 50000, 'disp': True}\n",
    "res_obj = op.minimize(su.norm_block, x0, method='L-BFGS-B',args=(atoms_test, 2, 0.3, myAlphas, myBetas, rCut, NradBas, Lmax, periodic),bounds=bounds_obj,  options=op_options)\n",
    "t1 = time.time()\n",
    "dt = t1 - t0\n",
    "print('Time passed: %f s' %dt)\n",
    "print('Iterations: %i' %res_obj.nit)\n",
    "xopt = res_obj.x\n",
    "su.show_res(atoms_test, xopt, myAlphas, myBetas, rCut=10.0, NradBas=5, Lmax=5, pbc=periodic)"
   ]
  },
  {
   "cell_type": "code",
   "execution_count": null,
   "metadata": {},
   "outputs": [],
   "source": [
    "# unconstrained SLSQP optimization\n",
    "atoms_test = struct1.copy()\n",
    "atoms_test.set_cell(10 * np.identity(3))\n",
    "atoms_test = su.limit_pos(atoms_test)\n",
    "atoms_test = su.rand_pos(atoms_test)\n",
    "atoms_test = su.lim_overlap(atoms_test, 3)\n",
    "view(atoms_test)\n",
    "\n",
    "x0 = atoms_test.get_positions()\n",
    "t0 = time.time()\n",
    "N = len(atoms_test.get_positions())*3\n",
    "print('Number of Atoms: %i' %(N/3))\n",
    "bounds_obj = [(0,10)]*N\n",
    "su.show_res(atoms_test, x0, myAlphas, myBetas, rCut=10.0, NradBas=5, Lmax=5, pbc=True)\n",
    "op_options = {'maxiter': 50000, 'disp': True}\n",
    "res_obj = op.minimize(su.soap_norm, x0, method='SLSQP',args=(atoms_test, myAlphas, myBetas, rCut, NradBas, Lmax, True, False),bounds=bounds_obj,  options=op_options)\n",
    "t1 = time.time()\n",
    "dt = t1 - t0\n",
    "print('Time passed: %f s' %dt)\n",
    "print('Iterations: %i' %res_obj.nit)\n",
    "xopt = res_obj.x\n",
    "su.show_res(atoms_test, xopt, myAlphas, myBetas, rCut=10.0, NradBas=5, Lmax=5, pbc=True)"
   ]
  },
  {
   "cell_type": "code",
   "execution_count": null,
   "metadata": {},
   "outputs": [],
   "source": [
    "from ase.io.trajectory import Trajectory\n",
    "def traj_callback(pos):\n",
    "    pos = np.reshape(pos,(-1,3))\n",
    "    Natoms = len(pos)\n",
    "    atoms = su.gen_struct(Natoms=Natoms,seed=50)\n",
    "    atoms.set_positions(pos)\n",
    "    Trajectory(currentdir + \"/res_structs/trajectory.traj\", 'a', atoms)"
   ]
  },
  {
   "cell_type": "code",
   "execution_count": 3,
   "metadata": {},
   "outputs": [],
   "source": [
    "def norm_LJ_opt(struct, sigma=2, eps=1e-1, pbc=True, maximization=False, full_output=False):\n",
    "    # function for matrix-norm optimization with LJ-cost of the structure struct, with parameters \n",
    "    atoms_test = struct.copy()\n",
    "    rCut = 10.0\n",
    "    NradBas = 5\n",
    "    Lmax = 5\n",
    "    myAlphas, myBetas = genBasis.getBasisFunc(rCut, NradBas)\n",
    "    x0 = atoms_test.get_positions()\n",
    "    calc_LJ = False\n",
    "    if(full_output):\n",
    "        su.show_res(atoms_test, x0, sigma, eps, myAlphas, myBetas, rCut=10.0, NradBas=5, Lmax=5, pbc=pbc, calc_LJ=calc_LJ)\n",
    "    N = len(atoms_test.get_positions())*3\n",
    "    cell_len = atoms_test.get_cell()[0,0]\n",
    "    bounds_obj = [(0,cell_len)]*N\n",
    "    op_options = {'maxiter': 50000, 'disp': True}\n",
    "    t0 = time.time()\n",
    "    #res_obj = op.minimize(su.soap_norm_LJ, x0, method='L-BFGS-B',args=(atoms_test, sigma, eps, myAlphas, myBetas, rCut, NradBas, Lmax, pbc, maximization), bounds=bounds_obj,  options=op_options)\n",
    "    res_obj = op.minimize(su.svd_norm, x0, method='L-BFGS-B',args=(atoms_test, myAlphas, myBetas, rCut, NradBas, Lmax, pbc), bounds=bounds_obj,  options=op_options)\n",
    "    #res_obj = op.minimize(su.var_norm, x0, method='L-BFGS-B',args=(atoms_test, myAlphas, myBetas, rCut, NradBas, Lmax, pbc,maximization), bounds=bounds_obj,  callback=traj_callback, options=op_options)\n",
    "    t1 = time.time()\n",
    "    dt = t1 - t0\n",
    "    if(full_output):\n",
    "        print('Time passed: %f s' %dt)\n",
    "        print('Iterations: %i' %res_obj.nit)\n",
    "    xopt = res_obj.x\n",
    "    atoms_res = atoms_test.copy()\n",
    "    atoms_res.set_positions(np.reshape(xopt,(-1,3)))\n",
    "    if(full_output):\n",
    "        (costLJ, norm) = su.show_res(atoms_res, xopt, sigma, eps, myAlphas, myBetas, rCut=10.0, NradBas=5, Lmax=5, pbc=pbc, calc_LJ=calc_LJ)\n",
    "    else:\n",
    "        if pbc:\n",
    "            mat = soaplite.get_periodic_soap_structure(atoms_res, myAlphas, myBetas, rCut, NradBas, Lmax)\n",
    "        else:\n",
    "            mat = soaplite.get_soap_structure(atoms_res, myAlphas, myBetas, rCut, NradBas, Lmax)\n",
    "        costLJ = su.cost_LJ(atoms_res, sigma, eps)\n",
    "        norm = nl.norm(mat)\n",
    "    ase.io.write(\"res_structs/crystal_svd_opt.cfg\",atoms_res)\n",
    "    return (costLJ, norm)"
   ]
  },
  {
   "cell_type": "code",
   "execution_count": null,
   "metadata": {
    "scrolled": true
   },
   "outputs": [],
   "source": [
    "# cu-Zr optimization\n",
    "seed = 50\n",
    "sigma = 2\n",
    "eps = 1\n",
    "atoms_test = struct1.copy()\n",
    "atoms_test.set_cell(10 * np.identity(3))\n",
    "atoms_test = su.limit_pos(atoms_test)\n",
    "atoms_test = su.rand_pos(atoms_test, seed=seed)\n",
    "atoms_test = su.lim_overlap(atoms_test, sigma)\n",
    "norm_LJ_opt(struct=atoms_test, eps=eps, sigma=sigma, maximization=False, pbc=True, full_output=True)"
   ]
  },
  {
   "cell_type": "code",
   "execution_count": null,
   "metadata": {},
   "outputs": [],
   "source": [
    "# time results: (pbc)\n",
    "# 33 atoms: 27min\n",
    "# 13 atoms: 911s\n",
    "# 16 atoms: 919s\n",
    "# 30 atoms: 1065s"
   ]
  },
  {
   "cell_type": "code",
   "execution_count": null,
   "metadata": {},
   "outputs": [],
   "source": [
    "# single-atom optimization\n",
    "seed = 50\n",
    "sigma = 2\n",
    "eps = 1\n",
    "atoms_test = su.gen_struct(Natoms=70,seed=seed)\n",
    "#atoms_test.set_cell(10 * np.identity(3))\n",
    "atoms_test = su.lim_overlap(atoms_test, sigma)\n",
    "norm_LJ_opt(struct=atoms_test, eps=eps, sigma=sigma, maximization=False, pbc=True, full_output=True)"
   ]
  },
  {
   "cell_type": "code",
   "execution_count": 5,
   "metadata": {},
   "outputs": [
    {
     "name": "stdout",
     "output_type": "stream",
     "text": [
      "Density of struct: 0.086420 (A⁻3)\n",
      "number of atoms: 63\n",
      "Number of Atoms: 63\n",
      "Minimal pair-distance: 1.800000\n",
      "Singular-Value norm: 4934.349691\n",
      "Full Matrix norm: 3489.634832\n",
      "Block matrix norm: 1272.581015\n",
      "LJ-Cost: 0.000000\n",
      "Time passed: 1047.101449 s\n",
      "Iterations: 72\n",
      "Number of Atoms: 63\n",
      "Minimal pair-distance: 1.360188\n",
      "Singular-Value norm: 5039.830725\n",
      "Full Matrix norm: 3926.966814\n",
      "Block matrix norm: 992.480760\n",
      "LJ-Cost: 0.000000\n"
     ]
    },
    {
     "data": {
      "text/plain": [
       "(3926.9668142900673, 0)"
      ]
     },
     "execution_count": 5,
     "metadata": {},
     "output_type": "execute_result"
    },
    {
     "data": {
      "image/png": "[encoded data removed]",
      "text/plain": [
       "<Figure size 432x288 with 2 Axes>"
      ]
     },
     "metadata": {
      "needs_background": "light"
     },
     "output_type": "display_data"
    },
    {
     "data": {
      "image/png": "[encoded data removed]",
      "text/plain": [
       "<Figure size 432x288 with 2 Axes>"
      ]
     },
     "metadata": {
      "needs_background": "light"
     },
     "output_type": "display_data"
    }
   ],
   "source": [
    "struct =struct2.copy()\n",
    "struct.set_cell((9,9,9))\n",
    "struct = su.limit_pos(struct)\n",
    "pos = struct.get_positions()\n",
    "pos += (1,1,1)\n",
    "struct.set_positions(pos)\n",
    "struct = su.limit_pos(struct)\n",
    "#print(pos)\n",
    "print(\"Density of struct: %f (A⁻3)\" %stats.density(struct))\n",
    "print(\"number of atoms: %i\" %len(struct.get_chemical_symbols()))\n",
    "seed = 50\n",
    "sigma = 2\n",
    "eps = 1\n",
    "#view(struct)\n",
    "norm_LJ_opt(struct=struct, eps=eps, sigma=sigma, maximization=False, pbc=True, full_output=True)"
   ]
  },
  {
   "cell_type": "code",
   "execution_count": null,
   "metadata": {},
   "outputs": [],
   "source": []
  }
 ],
 "metadata": {
  "kernelspec": {
   "display_name": "Python 3",
   "language": "python",
   "name": "python3"
  },
  "language_info": {
   "codemirror_mode": {
    "name": "ipython",
    "version": 3
   },
   "file_extension": ".py",
   "mimetype": "text/x-python",
   "name": "python",
   "nbconvert_exporter": "python",
   "pygments_lexer": "ipython3",
   "version": "3.7.3"
  }
 },
 "nbformat": 4,
 "nbformat_minor": 2
}
