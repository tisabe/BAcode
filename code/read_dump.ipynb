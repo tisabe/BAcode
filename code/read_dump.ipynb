{
 "cells": [
  {
   "cell_type": "code",
   "execution_count": 1,
   "metadata": {
    "collapsed": false
   },
   "outputs": [],
   "source": [
    "import numpy as np\n",
    "import ase\n",
    "from ase.visualize import view"
   ]
  },
  {
   "cell_type": "code",
   "execution_count": 44,
   "metadata": {
    "collapsed": false
   },
   "outputs": [],
   "source": [
    "struct = ase.Atoms('C')\n",
    "n = 1000\n",
    "pos = np.zeros((n,3))\n",
    "sym = np.zeros(n)\n",
    "f = open('Dump_files/dump0','r')\n",
    "for i in np.arange(9):\n",
    "    line = f.readline()\n",
    "    if i == 3:\n",
    "        N = int(line)\n",
    "    if i == 5:\n",
    "        line = line.split(' ')\n",
    "        xmin = float(line[0])\n",
    "        xmax = float(line[1])\n",
    "    if i == 6:\n",
    "        line = line.split(' ')\n",
    "        ymin = float(line[0])\n",
    "        ymax = float(line[1])\n",
    "    if i == 7:\n",
    "        line = line.split(' ')\n",
    "        zmin = float(line[0])\n",
    "        zmax = float(line[1])\n",
    "dx = xmax-xmin\n",
    "dy = ymax-ymin\n",
    "dz = zmax-zmin\n",
    "for i in np.arange(n):\n",
    "    list = f.readline()[:-1].split(' ')\n",
    "    list = [float(i) for i in list]\n",
    "    pos[i] = list[2:5]\n",
    "    sym[i] = list[1]\n",
    "    struct.append(ase.atom.Atom(sym[i],pos[i]))\n",
    "f.close()\n",
    "cell = [[dx,0,0],[0,dy,0],[0,0,dz]]\n",
    "struct.set_cell(cell,scale_atoms=True)"
   ]
  },
  {
   "cell_type": "code",
   "execution_count": 45,
   "metadata": {
    "collapsed": true
   },
   "outputs": [],
   "source": [
    "view(struct)"
   ]
  },
  {
   "cell_type": "code",
   "execution_count": null,
   "metadata": {
    "collapsed": true
   },
   "outputs": [],
   "source": []
  }
 ],
 "metadata": {
  "kernelspec": {
   "display_name": "Python 3",
   "language": "python",
   "name": "python3"
  },
  "language_info": {
   "codemirror_mode": {
    "name": "ipython",
    "version": 3
   },
   "file_extension": ".py",
   "mimetype": "text/x-python",
   "name": "python",
   "nbconvert_exporter": "python",
   "pygments_lexer": "ipython3",
   "version": "3.5.3"
  }
 },
 "nbformat": 4,
 "nbformat_minor": 2
}
