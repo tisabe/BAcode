{
 "cells": [
  {
   "cell_type": "code",
   "execution_count": 1,
   "metadata": {
    "collapsed": false
   },
   "outputs": [],
   "source": [
    "import numpy as np\n",
    "import ase\n",
    "from ase.visualize import view"
   ]
  },
  {
   "cell_type": "code",
   "execution_count": 2,
   "metadata": {
    "collapsed": true
   },
   "outputs": [],
   "source": [
    "def reduce_cell(obj):\n",
    "    pos = obj.get_positions()\n",
    "    xmax = max(pos[:,0])\n",
    "    ymax = max(pos[:,1])\n",
    "    zmax = max(pos[:,2])\n",
    "    cell = np.diag((xmax,ymax,zmax))\n",
    "    obj.set_cell(cell)"
   ]
  },
  {
   "cell_type": "code",
   "execution_count": 5,
   "metadata": {
    "collapsed": false
   },
   "outputs": [
    {
     "name": "stdout",
     "output_type": "stream",
     "text": [
      "0\n",
      "100000\n",
      "200000\n",
      "300000\n",
      "400000\n",
      "500000\n",
      "600000\n",
      "700000\n",
      "800000\n",
      "900000\n",
      "1000000\n",
      "1100000\n",
      "1200000\n",
      "1300000\n",
      "1400000\n",
      "1500000\n",
      "1600000\n",
      "1700000\n",
      "1800000\n",
      "1900000\n",
      "2000000\n",
      "2100000\n",
      "2200000\n",
      "2300000\n",
      "[[50.  0.  0.]\n",
      " [ 0. 50.  0.]\n",
      " [ 0.  0. 50.]]\n",
      "7207\n"
     ]
    }
   ],
   "source": [
    "struct = ase.Atoms('C')\n",
    "struct.pop(0)\n",
    "n = 10000 # number of lines to read\n",
    "lx = 50\n",
    "ly = 50\n",
    "lz = 50\n",
    "cell = np.diag((lx,ly,lz))\n",
    "pos = np.zeros((n,3))\n",
    "sym = np.zeros(n)\n",
    "f = open('Dump_files/dump0','r')\n",
    "for i in np.arange(9):\n",
    "    line = f.readline()\n",
    "    if i == 3:\n",
    "        N = int(line) # number of atoms in list\n",
    "    if i == 5:\n",
    "        line = line.split(' ')\n",
    "        xmin = float(line[0])\n",
    "        xmax = float(line[1])\n",
    "    if i == 6:\n",
    "        line = line.split(' ')\n",
    "        ymin = float(line[0])\n",
    "        ymax = float(line[1])\n",
    "    if i == 7:\n",
    "        line = line.split(' ')\n",
    "        zmin = float(line[0])\n",
    "        zmax = float(line[1])\n",
    "dx = xmax-xmin\n",
    "dy = ymax-ymin\n",
    "dz = zmax-zmin\n",
    "full_cell = np.diag((dx,dy,dz))\n",
    "trans_pos = [dx/2,dy/2,dz/2]\n",
    "#trans_pos = [0,0,0]\n",
    "for i in np.arange(N):\n",
    "    if (i%100000)==0:\n",
    "        print(i)\n",
    "    list = f.readline()[:-1].split(' ')\n",
    "    list = [float(i) for i in list]\n",
    "    pos_temp = np.array(list[2:5])\n",
    "    pos_temp = np.matmul(full_cell,pos_temp) # from fractional coord to Angstr.\n",
    "    #pos_temp = [pos_temp[j]-trans_pos[j] for j in range(3)]\n",
    "    np.subtract(pos_temp,trans_pos,out=pos_temp)\n",
    "    sym_temp = list[1]\n",
    "    if pos_temp[0]>=0 and pos_temp[1]>=0 and pos_temp[2]>=0:\n",
    "        if pos_temp[0]<lx and pos_temp[1]<ly and pos_temp[2]<lz:\n",
    "            struct.append(ase.atom.Atom(sym_temp,pos_temp))\n",
    "            #pos_temp=pos_temp\n",
    "f.close()\n",
    "#cell = [[dx,0,0],[0,dy,0],[0,0,dz]]\n",
    "struct.set_cell(cell)\n",
    "#reduce_cell(struct)\n",
    "print(struct.get_cell())\n",
    "print(len(struct.get_positions()))\n",
    "view(struct)"
   ]
  },
  {
   "cell_type": "code",
   "execution_count": null,
   "metadata": {
    "collapsed": true
   },
   "outputs": [],
   "source": []
  }
 ],
 "metadata": {
  "kernelspec": {
   "display_name": "Python 3",
   "language": "python",
   "name": "python3"
  },
  "language_info": {
   "codemirror_mode": {
    "name": "ipython",
    "version": 3
   },
   "file_extension": ".py",
   "mimetype": "text/x-python",
   "name": "python",
   "nbconvert_exporter": "python",
   "pygments_lexer": "ipython3",
   "version": "3.5.3"
  }
 },
 "nbformat": 4,
 "nbformat_minor": 2
}
