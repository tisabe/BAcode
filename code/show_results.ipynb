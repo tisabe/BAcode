{
 "cells": [
  {
   "cell_type": "code",
   "execution_count": 13,
   "metadata": {},
   "outputs": [
    {
     "name": "stdout",
     "output_type": "stream",
     "text": [
      "Using matplotlib backend: TkAgg\n"
     ]
    }
   ],
   "source": [
    "import ase\n",
    "import numpy as np\n",
    "from ase.visualize import view\n",
    "import struct_statistics as stats\n",
    "import matplotlib.pyplot as p\n",
    "import soaputils as su\n",
    "%matplotlib"
   ]
  },
  {
   "cell_type": "code",
   "execution_count": 2,
   "metadata": {},
   "outputs": [
    {
     "name": "stdout",
     "output_type": "stream",
     "text": [
      "Density of struct: 0.030000 (A⁻3)\n"
     ]
    }
   ],
   "source": [
    "# structure resulting from svd optimization (l1-norm/l2-norm)\n",
    "# periodic boundaries\n",
    "struct1 = ase.io.read(\"res_structs/svd_normd_pbc.cfg\")\n",
    "view(struct1)\n",
    "hist, dist, histEdges = stats.computePPDF(struct1,binSize=0.1,numBins=80,projectedAxis=None)\n",
    "distBins = 0.5*(histEdges[1:]+histEdges[0:-1])\n",
    "h = p.plot(distBins,hist)\n",
    "p.xlabel(\"Distance in A\")\n",
    "p.legend(h,['Zr-Zr','Zr-Cu','Cu-Cu'])\n",
    "print(\"Density of struct: %f (A⁻3)\" %stats.density(struct1))"
   ]
  },
  {
   "cell_type": "code",
   "execution_count": 3,
   "metadata": {},
   "outputs": [
    {
     "name": "stdout",
     "output_type": "stream",
     "text": [
      "Density of struct: 0.030000 (A⁻3)\n"
     ]
    }
   ],
   "source": [
    "# structure resulting from svd optimization (l1-norm/l2-norm) with different starting points\n",
    "struct2 = ase.io.read(\"res_structs/svd_normd_pbc_2.cfg\")\n",
    "view(struct2)\n",
    "hist, dist, histEdges = stats.computePPDF(struct2,binSize=0.1,numBins=80,projectedAxis=None)\n",
    "distBins = 0.5*(histEdges[1:]+histEdges[0:-1])\n",
    "h = p.plot(distBins,hist)\n",
    "p.xlabel(\"Distance in A\")\n",
    "p.legend(h,['Zr-Zr','Zr-Cu','Cu-Cu'])\n",
    "print(\"Density of struct: %f (A⁻3)\" %stats.density(struct2))"
   ]
  },
  {
   "cell_type": "code",
   "execution_count": 4,
   "metadata": {},
   "outputs": [
    {
     "name": "stdout",
     "output_type": "stream",
     "text": [
      "Density of struct: 0.030000 (A⁻3)\n"
     ]
    }
   ],
   "source": [
    "# structure resulting from svd optimization (l1-norm/l2-norm)\n",
    "# non periodic boundaries\n",
    "struct3 = ase.io.read(\"res_structs/svd_normd_npbc.cfg\")\n",
    "view(struct3)\n",
    "hist, dist, histEdges = stats.computePPDF(struct3,binSize=0.1,numBins=80,projectedAxis=None)\n",
    "distBins = 0.5*(histEdges[1:]+histEdges[0:-1])\n",
    "h = p.plot(distBins,hist)\n",
    "p.xlabel(\"Distance in A\")\n",
    "p.legend(h,['Zr-Zr','Zr-Cu','Cu-Cu'])\n",
    "print(\"Density of struct: %f (A⁻3)\" %stats.density(struct3))"
   ]
  },
  {
   "cell_type": "code",
   "execution_count": 5,
   "metadata": {},
   "outputs": [
    {
     "name": "stdout",
     "output_type": "stream",
     "text": [
      "Density of struct: 0.057656 (A⁻3)\n"
     ]
    }
   ],
   "source": [
    "struct4 = ase.io.read(\"res_structs/dump_50A.cfg\")\n",
    "view(struct4)\n",
    "hist, dist, histEdges = stats.computePPDF(struct4,binSize=0.1,numBins=250,projectedAxis=None)\n",
    "distBins = 0.5*(histEdges[1:]+histEdges[0:-1])\n",
    "h = p.plot(distBins,hist)\n",
    "p.xlabel(\"Distance in A\")\n",
    "p.legend(h,['Zr-Zr','Zr-Cu','Cu-Cu'])\n",
    "print(\"Density of struct: %f (A⁻3)\" %stats.density(struct4))"
   ]
  },
  {
   "cell_type": "code",
   "execution_count": 4,
   "metadata": {},
   "outputs": [
    {
     "name": "stdout",
     "output_type": "stream",
     "text": [
      "Density of struct: 0.030000 (A⁻3)\n",
      "Cell([13.263524026321305, 13.263524026321305, 13.263524026321305], pbc=True)\n"
     ]
    }
   ],
   "source": [
    "struct5 = su.gen_struct(Natoms=70,seed=50)\n",
    "struct5.set_pbc((1,1,1))\n",
    "view(struct5)\n",
    "hist, dist, histEdges = stats.computePPDF(struct5,binSize=0.1,numBins=80,projectedAxis=None)\n",
    "distBins = 0.5*(histEdges[1:]+histEdges[0:-1])\n",
    "h = p.plot(distBins,hist)\n",
    "p.xlabel(\"Distance in A\")\n",
    "p.legend(h,['Zr-Zr','Zr-Cu','Cu-Cu'])\n",
    "print(\"Density of struct: %f (A⁻3)\" %stats.density(struct5))\n",
    "print(struct5.get_cell())"
   ]
  },
  {
   "cell_type": "code",
   "execution_count": 3,
   "metadata": {},
   "outputs": [
    {
     "name": "stdout",
     "output_type": "stream",
     "text": [
      "Density of struct: 0.030000 (A⁻3)\n",
      "Cell([13.263524, 13.263524, 13.263524], pbc=True)\n"
     ]
    }
   ],
   "source": [
    "struct6 = ase.io.read(\"res_structs/crystal_.cfg\")\n",
    "view(struct6)\n",
    "hist, dist, histEdges = stats.computePPDF(struct6,binSize=0.1,numBins=80,projectedAxis=None)\n",
    "distBins = 0.5*(histEdges[1:]+histEdges[0:-1])\n",
    "h = p.plot(distBins,hist)\n",
    "p.xlabel(\"Distance in A\")\n",
    "p.legend(h,['Zr-Zr','Zr-Cu','Cu-Cu'])\n",
    "print(\"Density of struct: %f (A⁻3)\" %stats.density(struct6))\n",
    "print(struct6.get_cell())"
   ]
  },
  {
   "cell_type": "code",
   "execution_count": 17,
   "metadata": {},
   "outputs": [
    {
     "name": "stdout",
     "output_type": "stream",
     "text": [
      "Density of struct: 0.030000 (A⁻3)\n",
      "Cell([13.263524, 13.263524, 13.263524], pbc=True)\n"
     ]
    }
   ],
   "source": [
    "struct = ase.io.read(\"res_structs/x0_test/batch6.cfg\")\n",
    "view(struct)\n",
    "hist, dist, histEdges = stats.computePPDF(struct,binSize=0.1,numBins=80,projectedAxis=None)\n",
    "distBins = 0.5*(histEdges[1:]+histEdges[0:-1])\n",
    "h = p.plot(distBins,hist)\n",
    "p.xlabel(\"Distance in A\")\n",
    "p.legend(h,['Zr-Zr','Zr-Cu','Cu-Cu'])\n",
    "print(\"Density of struct: %f (A⁻3)\" %stats.density(struct))\n",
    "print(struct.get_cell())"
   ]
  },
  {
   "cell_type": "code",
   "execution_count": 49,
   "metadata": {},
   "outputs": [
    {
     "data": {
      "text/plain": [
       "<matplotlib.legend.Legend at 0x7f6dc0b26630>"
      ]
     },
     "execution_count": 49,
     "metadata": {},
     "output_type": "execute_result"
    }
   ],
   "source": [
    "# average over structs in the batch of 10\n",
    "Nbins = 150\n",
    "hists = np.zeros((10,Nbins))\n",
    "for i in np.arange(10):\n",
    "    filename = \"batch\" + str(i) + \".cfg\"\n",
    "    struct = ase.io.read(\"res_structs/x0_test/\" + filename)\n",
    "    hist, dist, histEdges = stats.computePPDF(struct,binSize=0.1,numBins=Nbins,projectedAxis=None)\n",
    "    hists[i,:] = hist[:,0]\n",
    "meanHist = np.mean(hists,0)\n",
    "distBins = 0.5*(histEdges[1:]+histEdges[0:-1])\n",
    "h = p.plot(distBins,meanHist)\n",
    "p.xlabel(\"Distance in A\")\n",
    "p.legend(h,['Zr-Zr','Zr-Cu','Cu-Cu'])"
   ]
  },
  {
   "cell_type": "code",
   "execution_count": 50,
   "metadata": {},
   "outputs": [
    {
     "name": "stdout",
     "output_type": "stream",
     "text": [
      "Cell([13.263524026321305, 13.263524026321305, 13.263524026321305], pbc=True)\n"
     ]
    }
   ],
   "source": [
    "N = 500\n",
    "Nbins = 150\n",
    "hists = np.zeros((N,Nbins))\n",
    "for i in np.arange(N):\n",
    "    struct = su.gen_struct(70,seed=50+i)\n",
    "    struct.set_pbc((1,1,1))\n",
    "    hist, dist, histEdges = stats.computePPDF(struct,binSize=0.1,numBins=Nbins,projectedAxis=None)\n",
    "    hists[i,:] = hist[:,0]\n",
    "meanHist = np.mean(hists,0)\n",
    "distBins = 0.5*(histEdges[1:]+histEdges[0:-1])\n",
    "h = p.plot(distBins,meanHist)\n",
    "p.xlabel(\"Distance in A\")\n",
    "p.legend(h,['Zr-Zr','Zr-Cu','Cu-Cu'])\n",
    "print(struct.get_cell())"
   ]
  },
  {
   "cell_type": "code",
   "execution_count": null,
   "metadata": {},
   "outputs": [],
   "source": []
  }
 ],
 "metadata": {
  "kernelspec": {
   "display_name": "Python 3",
   "language": "python",
   "name": "python3"
  },
  "language_info": {
   "codemirror_mode": {
    "name": "ipython",
    "version": 3
   },
   "file_extension": ".py",
   "mimetype": "text/x-python",
   "name": "python",
   "nbconvert_exporter": "python",
   "pygments_lexer": "ipython3",
   "version": "3.7.3"
  }
 },
 "nbformat": 4,
 "nbformat_minor": 2
}
