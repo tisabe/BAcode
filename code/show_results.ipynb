{
 "cells": [
  {
   "cell_type": "code",
   "execution_count": 1,
   "metadata": {},
   "outputs": [],
   "source": [
    "import ase\n",
    "import numpy as np\n",
    "from ase.visualize import view\n",
    "import struct_statistics as stats\n",
    "import matplotlib.pyplot as p\n",
    "import soaputils as su\n",
    "#%matplotlib"
   ]
  },
  {
   "cell_type": "code",
   "execution_count": null,
   "metadata": {},
   "outputs": [],
   "source": [
    "# structure resulting from svd optimization (l1-norm/l2-norm)\n",
    "# periodic boundaries\n",
    "struct1 = ase.io.read(\"res_structs/svd_normd_pbc.cfg\")\n",
    "view(struct1)\n",
    "hist, distBins = stats.computePPDF(struct1,binSize=0.1,numBins=80,projectedAxis=None)\n",
    "h = p.plot(distBins,hist)\n",
    "p.xlabel(\"Distance in A\")\n",
    "p.legend(h,['Zr-Zr','Zr-Cu','Cu-Cu'])\n",
    "print(\"Density of struct: %f (A⁻3)\" %stats.density(struct1))"
   ]
  },
  {
   "cell_type": "code",
   "execution_count": null,
   "metadata": {},
   "outputs": [],
   "source": [
    "# structure resulting from svd optimization (l1-norm/l2-norm) with different starting points\n",
    "struct2 = ase.io.read(\"res_structs/svd_normd_pbc_2.cfg\")\n",
    "view(struct2)\n",
    "hist, distBins = stats.computePPDF(struct2,binSize=0.1,numBins=80,projectedAxis=None)\n",
    "h = p.plot(distBins,hist)\n",
    "p.xlabel(\"Distance in A\")\n",
    "p.legend(h,['Zr-Zr','Zr-Cu','Cu-Cu'])\n",
    "print(\"Density of struct: %f (A⁻3)\" %stats.density(struct2))"
   ]
  },
  {
   "cell_type": "code",
   "execution_count": null,
   "metadata": {
    "scrolled": true
   },
   "outputs": [],
   "source": [
    "# structure resulting from svd optimization (l1-norm/l2-norm)\n",
    "# non periodic boundaries\n",
    "struct3 = ase.io.read(\"res_structs/svd_normd_npbc.cfg\")\n",
    "view(struct3)\n",
    "hist, distBins = stats.computePPDF(struct3,binSize=0.1,numBins=80,projectedAxis=None)\n",
    "h = p.plot(distBins,hist)\n",
    "p.xlabel(\"Distance in A\")\n",
    "p.legend(h,['Zr-Zr','Zr-Cu','Cu-Cu'])\n",
    "print(\"Density of struct: %f (A⁻3)\" %stats.density(struct3))"
   ]
  },
  {
   "cell_type": "code",
   "execution_count": null,
   "metadata": {},
   "outputs": [],
   "source": [
    "struct = ase.io.read(\"res_structs/svd_normd_C70.cfg\")\n",
    "view(struct)\n",
    "hist, distBins = stats.computeRDF(struct,binSize=0.1,numBins=80)\n",
    "h = p.plot(distBins,hist)\n",
    "p.xlabel(\"Distance in A\")\n",
    "p.legend(h,['Zr-Zr','Zr-Cu','Cu-Cu'])\n",
    "print(\"Density of struct: %f (A⁻3)\" %stats.density(struct))\n",
    "print(struct.get_cell())"
   ]
  },
  {
   "cell_type": "code",
   "execution_count": null,
   "metadata": {},
   "outputs": [],
   "source": [
    "struct4 = ase.io.read(\"res_structs/dump_50A.cfg\")\n",
    "view(struct4)\n",
    "#hist, distBins = stats.computePPDF(struct4,binSize=0.1,numBins=250,projectedAxis=None)\n",
    "hist, distBins = stats.computeRDF(struct4,binSize=0.1,numBins=250)\n",
    "h = p.plot(distBins,hist)\n",
    "p.xlabel(\"Distance in A\")\n",
    "p.legend(h,['Zr-Zr','Zr-Cu','Cu-Cu'])\n",
    "print(\"Density of struct: %f (A⁻3)\" %stats.density(struct4))"
   ]
  },
  {
   "cell_type": "code",
   "execution_count": null,
   "metadata": {},
   "outputs": [],
   "source": [
    "struct5 = su.gen_struct(Natoms=70,seed=50)\n",
    "struct5.set_pbc((1,1,1))\n",
    "view(struct5)\n",
    "hist, distBins = stats.computePPDF(struct5,binSize=0.1,numBins=80,projectedAxis=None)\n",
    "h = p.plot(distBins,hist)\n",
    "p.xlabel(\"Distance in A\")\n",
    "p.legend(h,['Zr-Zr','Zr-Cu','Cu-Cu'])\n",
    "print(\"Density of struct: %f (A⁻3)\" %stats.density(struct5))\n",
    "print(struct5.get_cell())"
   ]
  },
  {
   "cell_type": "code",
   "execution_count": null,
   "metadata": {
    "scrolled": false
   },
   "outputs": [],
   "source": [
    "struct = ase.io.read(\"res_structs/size_test/batchC100.cfg\")\n",
    "view(struct)\n",
    "hist, distBins = stats.computePPDF(struct,binSize=0.1,numBins=80,projectedAxis=None)\n",
    "h = p.plot(distBins,hist)\n",
    "p.xlabel(\"Distance in A\")\n",
    "p.legend(h,['Zr-Zr','Zr-Cu','Cu-Cu'])\n",
    "print(\"Density of struct: %f (A⁻3)\" %stats.density(struct))\n",
    "print(struct.get_cell())\n",
    "print(np.shape(hist))\n",
    "print(np.shape(distBins))"
   ]
  },
  {
   "cell_type": "code",
   "execution_count": 7,
   "metadata": {},
   "outputs": [],
   "source": [
    "l_list = [0,1,3,5,7,9,5,5,5,5,5,5,5,5,5,5,5,5]\n",
    "n_list = [5,5,5,5,5,5,2,4,5,8,10,12,5,5,5,5,5,5]\n",
    "r_list = [10,10,10,10,10,10,10,10,10,10,10,10,2,4,5,8,10,12] "
   ]
  },
  {
   "cell_type": "code",
   "execution_count": null,
   "metadata": {},
   "outputs": [],
   "source": [
    "for i in np.arange(12,17+1):\n",
    "    filename = \"batch\" + \"l\" + str(l_list[i]) + \"n\" + str(n_list[i]) + \"r\" + str(r_list[i]) + \".cfg\"\n",
    "    struct = ase.io.read(\"res_structs/param_test/\" + filename)\n",
    "    hist, distBins = stats.computePPDF(struct,binSize=0.1,numBins=80)\n",
    "    h = p.plot(distBins,hist,label=filename)\n",
    "p.xlabel(\"Distance in A\")\n",
    "p.legend()\n",
    "p.show()"
   ]
  },
  {
   "cell_type": "code",
   "execution_count": null,
   "metadata": {},
   "outputs": [],
   "source": [
    "# average over structs in the batch of 10\n",
    "%matplotlib notebook\n",
    "Nbins = 150\n",
    "hists = np.zeros((10,Nbins))\n",
    "for i in np.arange(10):\n",
    "    filename = \"batch\" + str(i) + \".cfg\"\n",
    "    struct = ase.io.read(\"res_structs/x0_test/\" + filename)\n",
    "    pdf, distBins = stats.simpleRDF(struct,numBins=Nbins,rCut=20)\n",
    "    #hist, distBins = stats.computePPDF(struct,binSize=0.1,numBins=Nbins,projectedAxis=None)\n",
    "    #hist, distBins = stats.computeRDF(struct,binSize=0.1,numBins=Nbins)\n",
    "    hists[i,:] = pdf[:]\n",
    "    #hists[i,:] = hist[:,0]\n",
    "    #hists[i,:] = hist[:]\n",
    "meanHist = np.mean(hists,0)"
   ]
  },
  {
   "cell_type": "code",
   "execution_count": null,
   "metadata": {},
   "outputs": [],
   "source": [
    "distBins.shape"
   ]
  },
  {
   "cell_type": "code",
   "execution_count": null,
   "metadata": {},
   "outputs": [],
   "source": [
    "p.plot(distBins,meanHist)\n",
    "print(struct.get_cell())"
   ]
  },
  {
   "cell_type": "code",
   "execution_count": 2,
   "metadata": {},
   "outputs": [],
   "source": [
    "# results of the run_params.py file\n",
    "l_time = [1695,1697,1791,1845,1948,2077]\n",
    "n_time = [993,1559,1832,3097,3380,3927]\n",
    "r_time = [1868,1770,1730,1678,1587,1492]\n",
    "l_feval = [15192,15192,15192,15192,15192,15192]\n",
    "n_feval = [15192,15192,15192,15192,17302,15614]\n",
    "r_feval = [15192,15192,15192,15192,15192,15192]\n",
    "l_it = [71,71,71,71,70,71]\n",
    "n_it = [67,68,64,31,13,40]\n",
    "r_it = [71,69,70,71,61,71]\n",
    "lx = [0,1,3,5,7,9]\n",
    "nx = [2,3,5,8,10,12]\n",
    "rx = [2,4,5,8,10,12]"
   ]
  },
  {
   "cell_type": "code",
   "execution_count": 7,
   "metadata": {},
   "outputs": [],
   "source": [
    "%matplotlib qt5\n",
    "fig, axs = p.subplots(1,3,figsize=[6,4],sharey=True)\n",
    "\n",
    "axs[0].plot(lx,l_time)\n",
    "axs[0].set_xlabel('$l_{max}$')\n",
    "axs[0].set_ylabel('time [s]')\n",
    "axs[0].set_xticks(lx,lx)\n",
    "axs[0].text(0.05, 0.95, '(a)', transform=axs[0].transAxes,\n",
    "      fontsize=16, va='top')\n",
    "\n",
    "axs[1].plot(nx,n_time)\n",
    "axs[1].set_xlabel('$n_{max}$')\n",
    "axs[1].set_xticks(nx,nx)\n",
    "axs[1].text(0.05, 0.95, '(b)', transform=axs[1].transAxes,\n",
    "      fontsize=16, va='top')\n",
    "\n",
    "axs[2].plot(rx,r_time)\n",
    "axs[2].set_xlabel('$r_{cut} \\,[\\AA]$')\n",
    "axs[2].set_xticks(rx,rx)\n",
    "axs[2].text(0.05, 0.95, '(c)', transform=axs[2].transAxes,\n",
    "      fontsize=16, va='top')\n",
    "p.show()"
   ]
  },
  {
   "cell_type": "code",
   "execution_count": null,
   "metadata": {},
   "outputs": [],
   "source": [
    "# results of the run_sizes.py file\n",
    "nAx = [10,20,30,40,50,60,70,80,90,100,150,200]\n",
    "nA_times = [1567,1270,1633,1707,1761,1744,1812,1850,1949,2010,2029,2070]\n",
    "nA_it = [356,78,128,82,91,82,71,62,55,49,33,24]"
   ]
  },
  {
   "cell_type": "code",
   "execution_count": null,
   "metadata": {},
   "outputs": [],
   "source": [
    "p.plot(nAx,nA_times)\n",
    "p.xlabel('Number of atoms')\n",
    "p.ylabel('Computation time [s]')"
   ]
  },
  {
   "cell_type": "code",
   "execution_count": 15,
   "metadata": {},
   "outputs": [
    {
     "data": {
      "text/plain": [
       "Text(0, 0.5, '$g(r)$')"
      ]
     },
     "execution_count": 15,
     "metadata": {},
     "output_type": "execute_result"
    }
   ],
   "source": [
    "%matplotlib qt5\n",
    "#struct = ase.io.read(\"res_structs/dump_50A.cfg\")\n",
    "#struct = su.ran_sample(struct,(15,15,15))\n",
    "#struct = ase.io.read(\"res_structs/x0_test/batch4.cfg\")\n",
    "struct = ase.io.read(\"res_structs/param_test/batchl5n12r10.cfg\")\n",
    "struct.set_pbc((1,1,1))\n",
    "view(struct)\n",
    "\n",
    "pdf, distBins = stats.simpleRDF(struct,numBins=100,rCut=15)\n",
    "#print(pdf)\n",
    "p.plot(distBins,pdf)\n",
    "p.xlabel('r [$\\AA$]')\n",
    "p.ylabel('$g(r)$')"
   ]
  },
  {
   "cell_type": "code",
   "execution_count": 11,
   "metadata": {},
   "outputs": [
    {
     "data": {
      "image/png": "[encoded data removed]",
      "text/plain": [
       "<Figure size 432x288 with 1 Axes>"
      ]
     },
     "metadata": {
      "needs_background": "light"
     },
     "output_type": "display_data"
    }
   ],
   "source": [
    "for i in np.arange(0,18):\n",
    "    filename = \"batch\" + \"l\" + str(l_list[i]) + \"n\" + str(n_list[i]) + \"r\" + str(r_list[i]) + \".cfg\"\n",
    "    struct = ase.io.read(\"res_structs/param_test/\" + filename)\n",
    "    hist, distBins = stats.simpleRDF(struct,numBins=100,rCut=15)\n",
    "    h = p.plot(distBins,hist,label=filename)\n",
    "p.xlabel(\"Distance in A\")\n",
    "p.legend()\n",
    "p.show()"
   ]
  },
  {
   "cell_type": "code",
   "execution_count": null,
   "metadata": {},
   "outputs": [],
   "source": []
  }
 ],
 "metadata": {
  "kernelspec": {
   "display_name": "Python 3",
   "language": "python",
   "name": "python3"
  },
  "language_info": {
   "codemirror_mode": {
    "name": "ipython",
    "version": 3
   },
   "file_extension": ".py",
   "mimetype": "text/x-python",
   "name": "python",
   "nbconvert_exporter": "python",
   "pygments_lexer": "ipython3",
   "version": "3.7.1"
  }
 },
 "nbformat": 4,
 "nbformat_minor": 2
}
