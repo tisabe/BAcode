{
 "cells": [
  {
   "cell_type": "code",
   "execution_count": 1,
   "metadata": {
    "collapsed": true
   },
   "outputs": [],
   "source": [
    "import os,sys,inspect\n",
    "currentdir = os.path.dirname(os.path.abspath(inspect.getfile(inspect.currentframe())))\n",
    "parentdir = os.path.dirname(currentdir)\n",
    "sys.path.insert(0,parentdir) \n",
    "\n",
    "import soaplite\n",
    "import soaputils as su\n",
    "import genBasis\n",
    "import ase\n",
    "from ase.visualize import view\n",
    "from ase.build import bulk\n",
    "import numpy as np\n",
    "from numpy.linalg import svd\n",
    "import matplotlib as matplotlib\n",
    "import matplotlib.pyplot as p\n",
    "import numpy.linalg as nl\n",
    "from scipy.optimize import fmin\n",
    "import scipy.optimize as op\n",
    "import time\n",
    "from random import shuffle\n",
    "%matplotlib inline"
   ]
  },
  {
   "cell_type": "code",
   "execution_count": 2,
   "metadata": {
    "collapsed": true
   },
   "outputs": [],
   "source": [
    "rCut = 10.0\n",
    "NradBas = 5\n",
    "Lmax = 5\n",
    "myAlphas, myBetas = genBasis.getBasisFunc(rCut, NradBas)"
   ]
  },
  {
   "cell_type": "code",
   "execution_count": 9,
   "metadata": {
    "collapsed": false
   },
   "outputs": [
    {
     "name": "stdout",
     "output_type": "stream",
     "text": [
      "20960.255432293656\n",
      "21065.37535605108\n"
     ]
    }
   ],
   "source": [
    "struct2 = bulk('Cu', 'fcc', a=3.6, cubic=True)\n",
    "struct2l = soaplite._get_supercell(struct2, rCut=2.0)\n",
    "struct2lr = su.rand_pos(struct2l)\n",
    "#view(struct2)\n",
    "#view(struct2l)\n",
    "mat2 = soaplite.get_periodic_soap_structure(struct2, myAlphas, myBetas, rCut, NradBas, Lmax)\n",
    "mat2l = soaplite.get_periodic_soap_structure(struct2l, myAlphas, myBetas, rCut, NradBas, Lmax)\n",
    "mat2lr = soaplite.get_periodic_soap_structure(struct2lr, myAlphas, myBetas, rCut, NradBas, Lmax)\n",
    "#p.matshow(mat2)\n",
    "#p.matshow(mat2l)\n",
    "print(nl.norm(mat2l))\n",
    "print(nl.norm(mat2lr))"
   ]
  },
  {
   "cell_type": "code",
   "execution_count": 10,
   "metadata": {
    "collapsed": false
   },
   "outputs": [
    {
     "name": "stdout",
     "output_type": "stream",
     "text": [
      "5199.700674115754\n"
     ]
    }
   ],
   "source": [
    "# l1_0 Au-Cu\n",
    "a0 = 4.0\n",
    "#c0 = 0.9 * a0 #https://link.springer.com/content/pdf/10.1007/BF03215214.pdf\n",
    "c0 = 1.0 * a0\n",
    "struct3 = bulk('Au', 'fcc', a=a0, cubic=True)\n",
    "struct3.set_cell(np.diag((a0,a0,c0)), scale_atoms=True)\n",
    "struct3.set_chemical_symbols(('Au','Cu','Cu','Au'))\n",
    "struct3l = soaplite._get_supercell(struct3, rCut=2.0)\n",
    "#view(struct3)\n",
    "#view(struct3l)\n",
    "mat3 = soaplite.get_periodic_soap_structure(struct3, myAlphas, myBetas, rCut, NradBas, Lmax)\n",
    "mat3l = soaplite.get_periodic_soap_structure(struct3l, myAlphas, myBetas, rCut, NradBas, Lmax)\n",
    "#p.matshow(mat3)\n",
    "#p.matshow(mat3l)\n",
    "print(nl.norm(mat3l))"
   ]
  },
  {
   "cell_type": "code",
   "execution_count": 5,
   "metadata": {
    "collapsed": false
   },
   "outputs": [],
   "source": [
    "struct4 = ase.io.read(currentdir + \"/glass_cube_CuZr.cfg\")\n",
    "struct4r = su.lim_overlap(su.rand_pos(struct4), dmin=1.5) # randomizing positions and limiting overlap\n",
    "struct4rb = su.lim_overlap(su.rand_pos(struct4), dmin=2.0)\n",
    "mat4 = soaplite.get_periodic_soap_structure(struct4, myAlphas, myBetas, rCut, NradBas, Lmax)\n",
    "mat4r = soaplite.get_periodic_soap_structure(struct4r, myAlphas, myBetas, rCut, NradBas, Lmax)\n",
    "mat4rb = soaplite.get_periodic_soap_structure(struct4rb, myAlphas, myBetas, rCut, NradBas, Lmax)\n",
    "#p.matshow(mat4)\n",
    "#p.matshow(mat4r)\n",
    "#p.matshow(mat4rb)\n",
    "print(nl.norm(mat2l))"
   ]
  },
  {
   "cell_type": "code",
   "execution_count": 11,
   "metadata": {
    "collapsed": false
   },
   "outputs": [
    {
     "name": "stdout",
     "output_type": "stream",
     "text": [
      "5219.0611840541105\n"
     ]
    }
   ],
   "source": [
    "#randomly assigned symbols fcc \n",
    "struct5 = bulk('Au', 'fcc', a=4.0, cubic=True)\n",
    "struct5.set_chemical_symbols(('Au','Cu','Cu','Au'))\n",
    "struct5l = soaplite._get_supercell(struct3, rCut=2.0)\n",
    "symbols5 = struct5l.get_chemical_symbols()\n",
    "np.random.shuffle(symbols5)\n",
    "struct5l.set_chemical_symbols(symbols5)\n",
    "#view(struct5l)\n",
    "mat5l = soaplite.get_periodic_soap_structure(struct5l, myAlphas, myBetas, rCut, NradBas, Lmax)\n",
    "#p.matshow(mat5)\n",
    "print(nl.norm(mat5l))"
   ]
  },
  {
   "cell_type": "code",
   "execution_count": 7,
   "metadata": {
    "collapsed": false
   },
   "outputs": [
    {
     "name": "stdout",
     "output_type": "stream",
     "text": [
      "Using matplotlib backend: TkAgg\n"
     ]
    },
    {
     "data": {
      "text/plain": [
       "<function matplotlib.pyplot.show>"
      ]
     },
     "execution_count": 7,
     "metadata": {},
     "output_type": "execute_result"
    }
   ],
   "source": [
    "%matplotlib\n",
    "\n",
    "s1 = svd(np.transpose(mat4), full_matrices=False, compute_uv=False)\n",
    "s1r = svd(np.transpose(mat4r), full_matrices=False, compute_uv=False)\n",
    "s2 = svd(np.transpose(mat2l), full_matrices=False, compute_uv=False) # Cu fcc\n",
    "s2r = svd(np.transpose(mat2lr), full_matrices=False, compute_uv=False) # Cu randomized\n",
    "s3 = svd(np.transpose(mat3l), full_matrices=False, compute_uv=False) # l1_0 Au-Cu\n",
    "s4 = svd(np.transpose(mat5l), full_matrices=False, compute_uv=False) # random assigned Au-Cu fcc\n",
    "\n",
    "plot1, = p.semilogy(s1, label='Cu-Zr Cube')\n",
    "plot1r, = p.semilogy(s1r, label='Cu-Zr randomized Cube')\n",
    "plot2, = p.semilogy(s2, label='Cu fcc')\n",
    "plot2r, = p.semilogy(s2r, label='Cu randomized')\n",
    "plot3, = p.semilogy(s3, label='l1_0 Au_Cu')\n",
    "plot4, = p.semilogy(s4, label='random Au_Cu fcc')\n",
    "p.legend(handles=[plot1, plot1r, plot2, plot2r, plot3, plot4])\n",
    "p.show"
   ]
  },
  {
   "cell_type": "code",
   "execution_count": 12,
   "metadata": {
    "collapsed": false
   },
   "outputs": [
    {
     "data": {
      "text/plain": [
       "[<matplotlib.lines.Line2D at 0x7ff5759df780>]"
      ]
     },
     "execution_count": 12,
     "metadata": {},
     "output_type": "execute_result"
    }
   ],
   "source": [
    "s3d = [abs(i-300) for i in s3]\n",
    "s4d = [abs(i-300) for i in s4]\n",
    "p.semilogy(s3d)\n",
    "p.semilogy(s4d)"
   ]
  },
  {
   "cell_type": "code",
   "execution_count": 13,
   "metadata": {
    "collapsed": false
   },
   "outputs": [
    {
     "name": "stdout",
     "output_type": "stream",
     "text": [
      "5199.700674115753\n",
      "5246.495587863806\n",
      "-4178.623350623104\n",
      "-571.4042324741218\n"
     ]
    }
   ],
   "source": [
    "print(nl.norm(s3))\n",
    "print(nl.norm(s4))\n",
    "s3l = np.log(s3)\n",
    "s4l = np.log(s4)\n",
    "print(np.sum(s3l))\n",
    "print(np.sum(s4l))"
   ]
  },
  {
   "cell_type": "code",
   "execution_count": 10,
   "metadata": {
    "collapsed": false
   },
   "outputs": [
    {
     "name": "stdout",
     "output_type": "stream",
     "text": [
      "20960.255432293656\n",
      "-2119.005536495317\n",
      "21657.373785120795\n",
      "4062128077932078.5\n"
     ]
    }
   ],
   "source": [
    "sigma = 2\n",
    "eps = 1\n",
    "print(nl.norm(mat2l))\n",
    "print(su.cost_LJ(struct2l,sigma,eps))\n",
    "print(nl.norm(mat2lr))\n",
    "print(su.cost_LJ(struct2lr,sigma,eps))"
   ]
  },
  {
   "cell_type": "code",
   "execution_count": null,
   "metadata": {
    "collapsed": true
   },
   "outputs": [],
   "source": []
  }
 ],
 "metadata": {
  "kernelspec": {
   "display_name": "Python 3",
   "language": "python",
   "name": "python3"
  },
  "language_info": {
   "codemirror_mode": {
    "name": "ipython",
    "version": 3
   },
   "file_extension": ".py",
   "mimetype": "text/x-python",
   "name": "python",
   "nbconvert_exporter": "python",
   "pygments_lexer": "ipython3",
   "version": "3.5.3"
  }
 },
 "nbformat": 4,
 "nbformat_minor": 2
}
