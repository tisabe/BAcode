{
 "cells": [
  {
   "cell_type": "code",
   "execution_count": 1,
   "metadata": {
    "collapsed": true
   },
   "outputs": [],
   "source": [
    "import os,sys,inspect\n",
    "currentdir = os.path.dirname(os.path.abspath(inspect.getfile(inspect.currentframe())))\n",
    "parentdir = os.path.dirname(currentdir)\n",
    "sys.path.insert(0,parentdir) \n",
    "\n",
    "import soaplite\n",
    "import soaputils as su\n",
    "import genBasis\n",
    "import ase\n",
    "from ase.visualize import view\n",
    "from ase.build import bulk\n",
    "import numpy as np\n",
    "import matplotlib as matplotlib\n",
    "import matplotlib.pyplot as p\n",
    "import numpy.linalg as nl\n",
    "from scipy.optimize import fmin\n",
    "import scipy.optimize as op\n",
    "import time\n",
    "%matplotlib inline"
   ]
  },
  {
   "cell_type": "code",
   "execution_count": 2,
   "metadata": {
    "collapsed": true
   },
   "outputs": [],
   "source": [
    "rCut = 10.0\n",
    "NradBas = 5\n",
    "Lmax = 5\n",
    "myAlphas, myBetas = genBasis.getBasisFunc(rCut, NradBas)"
   ]
  },
  {
   "cell_type": "code",
   "execution_count": 3,
   "metadata": {
    "collapsed": false
   },
   "outputs": [],
   "source": [
    "struct2 = bulk('Cu', 'fcc', a=3.6, cubic=True)\n",
    "struct2l = soaplite._get_supercell(struct2, rCut=2.0)\n",
    "#view(struct2)\n",
    "#view(struct2l)\n",
    "mat2 = soaplite.get_periodic_soap_structure(struct2, myAlphas, myBetas, rCut, NradBas, Lmax)\n",
    "mat2l = soaplite.get_periodic_soap_structure(struct2l, myAlphas, myBetas, rCut, NradBas, Lmax)\n",
    "#p.matshow(mat2)\n",
    "#p.matshow(mat2l)"
   ]
  },
  {
   "cell_type": "code",
   "execution_count": 4,
   "metadata": {
    "collapsed": false
   },
   "outputs": [],
   "source": [
    "a0 = 4.0\n",
    "c0 = 0.9 * a0 #https://link.springer.com/content/pdf/10.1007/BF03215214.pdf\n",
    "struct3 = bulk('Au', 'fcc', a=a0, cubic=True)\n",
    "struct3.set_cell(np.diag((a0,a0,c0)), scale_atoms=True)\n",
    "struct3.set_chemical_symbols(('Au','Cu','Cu','Au'))\n",
    "struct3l = soaplite._get_supercell(struct3, rCut=2.0)\n",
    "#view(struct3)\n",
    "#view(struct3l)\n",
    "mat3 = soaplite.get_periodic_soap_structure(struct3, myAlphas, myBetas, rCut, NradBas, Lmax)\n",
    "mat3l = soaplite.get_periodic_soap_structure(struct3l, myAlphas, myBetas, rCut, NradBas, Lmax)\n",
    "#p.matshow(mat3)\n",
    "#p.matshow(mat3l)"
   ]
  },
  {
   "cell_type": "code",
   "execution_count": 5,
   "metadata": {
    "collapsed": false
   },
   "outputs": [
    {
     "name": "stdout",
     "output_type": "stream",
     "text": [
      "1.1128541147984476\n",
      "0.2721504884860215\n",
      "0.2721504884860215\n",
      "0.5971706356919728\n",
      "0.6159046234829109\n",
      "0.6674852714714491\n",
      "0.6693666651093708\n",
      "0.7345720698738052\n",
      "0.7996601620058537\n",
      "0.8127458393468374\n",
      "0.812024579153667\n",
      "0.886032308775919\n",
      "0.959250505447174\n",
      "0.9663606724839948\n",
      "0.9912604669847697\n",
      "0.9940380746195631\n",
      "1.006584807333394\n",
      "1.0614237881206132\n",
      "1.0941762439059206\n",
      "1.1101925569071736\n"
     ]
    }
   ],
   "source": [
    "import soaputils as su\n",
    "\n",
    "atoms = ase.io.read(currentdir + \"/glass_cube_CuZr.cfg\")\n",
    "atoms_rand = su.rand_pos(atoms)\n",
    "dist = atoms.get_all_distances(mic=True)\n",
    "dist_rand = atoms_rand.get_all_distances(mic=True)\n",
    "#print(dist_rand)\n",
    "np.fill_diagonal(dist, 10.0)\n",
    "np.fill_diagonal(dist_rand, 10.0)\n",
    "print(np.amin(dist))\n",
    "print(np.amin(dist_rand))\n",
    "atoms_new = su.lim_overlap(atoms_rand)"
   ]
  },
  {
   "cell_type": "code",
   "execution_count": 6,
   "metadata": {
    "collapsed": false
   },
   "outputs": [
    {
     "data": {
      "text/plain": [
       "array([[0.09828511, 0.98602266, 0.17423254]])"
      ]
     },
     "execution_count": 6,
     "metadata": {},
     "output_type": "execute_result"
    }
   ],
   "source": [
    "np.random.random_sample((1,3))"
   ]
  },
  {
   "cell_type": "code",
   "execution_count": null,
   "metadata": {
    "collapsed": true
   },
   "outputs": [],
   "source": []
  }
 ],
 "metadata": {
  "kernelspec": {
   "display_name": "Python 3",
   "language": "python",
   "name": "python3"
  },
  "language_info": {
   "codemirror_mode": {
    "name": "ipython",
    "version": 3
   },
   "file_extension": ".py",
   "mimetype": "text/x-python",
   "name": "python",
   "nbconvert_exporter": "python",
   "pygments_lexer": "ipython3",
   "version": "3.5.3"
  }
 },
 "nbformat": 4,
 "nbformat_minor": 2
}
