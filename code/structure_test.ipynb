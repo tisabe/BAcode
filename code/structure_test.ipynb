{
 "cells": [
  {
   "cell_type": "code",
   "execution_count": 1,
   "metadata": {
    "collapsed": true
   },
   "outputs": [],
   "source": [
    "import os,sys,inspect\n",
    "currentdir = os.path.dirname(os.path.abspath(inspect.getfile(inspect.currentframe())))\n",
    "parentdir = os.path.dirname(currentdir)\n",
    "sys.path.insert(0,parentdir) \n",
    "\n",
    "import soaplite\n",
    "import soaputils as su\n",
    "import genBasis\n",
    "import ase\n",
    "from ase.visualize import view\n",
    "from ase.build import bulk\n",
    "import numpy as np\n",
    "from numpy.linalg import svd\n",
    "import matplotlib as matplotlib\n",
    "import matplotlib.pyplot as p\n",
    "import numpy.linalg as nl\n",
    "from scipy.optimize import fmin\n",
    "import scipy.optimize as op\n",
    "import time\n",
    "%matplotlib inline"
   ]
  },
  {
   "cell_type": "code",
   "execution_count": 2,
   "metadata": {
    "collapsed": true
   },
   "outputs": [],
   "source": [
    "rCut = 10.0\n",
    "NradBas = 5\n",
    "Lmax = 5\n",
    "myAlphas, myBetas = genBasis.getBasisFunc(rCut, NradBas)"
   ]
  },
  {
   "cell_type": "code",
   "execution_count": 3,
   "metadata": {
    "collapsed": false
   },
   "outputs": [],
   "source": [
    "struct2 = bulk('Cu', 'fcc', a=3.6, cubic=True)\n",
    "struct2l = soaplite._get_supercell(struct2, rCut=2.0)\n",
    "#view(struct2)\n",
    "#view(struct2l)\n",
    "mat2 = soaplite.get_periodic_soap_structure(struct2, myAlphas, myBetas, rCut, NradBas, Lmax)\n",
    "mat2l = soaplite.get_periodic_soap_structure(struct2l, myAlphas, myBetas, rCut, NradBas, Lmax)\n",
    "#p.matshow(mat2)\n",
    "#p.matshow(mat2l)"
   ]
  },
  {
   "cell_type": "code",
   "execution_count": 4,
   "metadata": {
    "collapsed": false
   },
   "outputs": [],
   "source": [
    "a0 = 4.0\n",
    "c0 = 0.9 * a0 #https://link.springer.com/content/pdf/10.1007/BF03215214.pdf\n",
    "struct3 = bulk('Au', 'fcc', a=a0, cubic=True)\n",
    "struct3.set_cell(np.diag((a0,a0,c0)), scale_atoms=True)\n",
    "struct3.set_chemical_symbols(('Au','Cu','Cu','Au'))\n",
    "struct3l = soaplite._get_supercell(struct3, rCut=2.0)\n",
    "#view(struct3)\n",
    "#view(struct3l)\n",
    "mat3 = soaplite.get_periodic_soap_structure(struct3, myAlphas, myBetas, rCut, NradBas, Lmax)\n",
    "mat3l = soaplite.get_periodic_soap_structure(struct3l, myAlphas, myBetas, rCut, NradBas, Lmax)\n",
    "#p.matshow(mat3)\n",
    "#p.matshow(mat3l)"
   ]
  },
  {
   "cell_type": "code",
   "execution_count": 5,
   "metadata": {
    "collapsed": false
   },
   "outputs": [],
   "source": [
    "struct4 = ase.io.read(currentdir + \"/glass_cube_CuZr.cfg\")\n",
    "struct4r = su.lim_overlap(su.rand_pos(struct4), dmin=1.5) # randomizing positions and limiting overlap\n",
    "struct4rb = su.lim_overlap(su.rand_pos(struct4), dmin=2)\n",
    "mat4 = soaplite.get_periodic_soap_structure(struct4, myAlphas, myBetas, rCut, NradBas, Lmax)\n",
    "mat4r = soaplite.get_periodic_soap_structure(struct4r, myAlphas, myBetas, rCut, NradBas, Lmax)\n",
    "mat4rb = soaplite.get_periodic_soap_structure(struct4rb, myAlphas, myBetas, rCut, NradBas, Lmax)\n",
    "#p.matshow(mat4)\n",
    "#p.matshow(mat4r)\n",
    "#p.matshow(mat4rb)"
   ]
  },
  {
   "cell_type": "code",
   "execution_count": 42,
   "metadata": {
    "collapsed": false
   },
   "outputs": [
    {
     "name": "stdout",
     "output_type": "stream",
     "text": [
      "547.5741262722589\n"
     ]
    },
    {
     "data": {
      "image/png": "[encoded data removed]",
      "text/plain": [
       "<Figure size 432x288 with 1 Axes>"
      ]
     },
     "metadata": {},
     "output_type": "display_data"
    }
   ],
   "source": [
    "arr = np.random.rand(200,250)\n",
    "s = svd(mat4, full_matrices=False, compute_uv=False)\n",
    "p.semilogy(s)\n",
    "print(np.linalg.norm(s))"
   ]
  },
  {
   "cell_type": "code",
   "execution_count": 40,
   "metadata": {
    "collapsed": false
   },
   "outputs": [],
   "source": [
    "N = 100\n",
    "res = np.zeros(N)\n",
    "for i in np.arange(N):\n",
    "    struct4r = su.lim_overlap(su.rand_pos(struct4), dmin=1.5)\n",
    "    mat4r = soaplite.get_periodic_soap_structure(struct4r, myAlphas, myBetas, rCut, NradBas, Lmax)\n",
    "    s = svd(mat4r, full_matrices=False, compute_uv=False)\n",
    "    res[i] = np.linalg.norm(s)"
   ]
  },
  {
   "cell_type": "code",
   "execution_count": 41,
   "metadata": {
    "collapsed": false
   },
   "outputs": [
    {
     "name": "stdout",
     "output_type": "stream",
     "text": [
      "[637.16715793 612.30404455 589.64081432 576.44923455 580.55830793\n",
      " 628.27150055 575.92805898 600.13457044 580.11922205 616.86618148\n",
      " 612.91869761 598.90016976 575.03067728 578.79504933 608.26401506\n",
      " 598.8014544  581.60301642 607.88787885 601.60502235 605.59710695\n",
      " 572.41082308 583.00344532 601.53329403 622.85382594 619.94092626\n",
      " 626.86849023 581.94072848 586.26888925 611.16441372 587.10078095\n",
      " 632.85815426 585.66956757 580.44420524 635.40694005 602.70849356\n",
      " 589.23285421 607.46991404 601.39289285 583.20623132 605.88606465\n",
      " 619.7540008  607.87329803 572.70805787 620.63651045 572.10182244\n",
      " 590.1866523  602.58527194 572.54657425 606.39610683 584.54291288\n",
      " 621.5892519  585.84850961 616.96282546 643.04387456 582.89025498\n",
      " 612.7105146  598.1183504  596.52114765 587.25085357 554.94571377\n",
      " 612.3519786  671.11632732 604.9375879  625.33847137 585.07803919\n",
      " 628.23244435 604.89081407 648.02771199 600.85721925 608.7140443\n",
      " 644.12297315 601.18638955 623.29924013 612.76392745 588.06554316\n",
      " 603.86035634 646.83616875 599.46503325 581.24836317 560.71110132\n",
      " 583.0277724  579.43449291 597.81596912 591.10293656 612.62991765\n",
      " 597.45444413 569.97880648 593.66444517 638.40789585 580.74442099\n",
      " 573.95231537 576.51091194 600.23972744 604.43411251 580.94647468\n",
      " 598.64555913 588.54890673 580.0042829  568.35415831 606.87094316]\n"
     ]
    }
   ],
   "source": [
    "print(res)"
   ]
  },
  {
   "cell_type": "code",
   "execution_count": null,
   "metadata": {
    "collapsed": true
   },
   "outputs": [],
   "source": []
  }
 ],
 "metadata": {
  "kernelspec": {
   "display_name": "Python 3",
   "language": "python",
   "name": "python3"
  },
  "language_info": {
   "codemirror_mode": {
    "name": "ipython",
    "version": 3
   },
   "file_extension": ".py",
   "mimetype": "text/x-python",
   "name": "python",
   "nbconvert_exporter": "python",
   "pygments_lexer": "ipython3",
   "version": "3.5.3"
  }
 },
 "nbformat": 4,
 "nbformat_minor": 2
}
