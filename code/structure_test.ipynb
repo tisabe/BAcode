{
 "cells": [
  {
   "cell_type": "code",
   "execution_count": 1,
   "metadata": {
    "collapsed": true
   },
   "outputs": [],
   "source": [
    "import os,sys,inspect\n",
    "currentdir = os.path.dirname(os.path.abspath(inspect.getfile(inspect.currentframe())))\n",
    "parentdir = os.path.dirname(currentdir)\n",
    "sys.path.insert(0,parentdir) \n",
    "\n",
    "import soaplite\n",
    "import genBasis\n",
    "import ase\n",
    "from ase.visualize import view\n",
    "from ase.build import bulk\n",
    "import numpy as np\n",
    "import matplotlib as matplotlib\n",
    "import matplotlib.pyplot as p\n",
    "import numpy.linalg as nl\n",
    "from scipy.optimize import fmin\n",
    "import scipy.optimize as op\n",
    "import time\n",
    "%matplotlib inline"
   ]
  },
  {
   "cell_type": "code",
   "execution_count": 2,
   "metadata": {
    "collapsed": true
   },
   "outputs": [],
   "source": [
    "myAlphas, myBetas = genBasis.getBasisFunc(10.0, 5) # input: (rCut, NradBas)\n",
    "rCut = 10.0\n",
    "NradBas = 5\n",
    "Lmax = 5"
   ]
  },
  {
   "cell_type": "code",
   "execution_count": 18,
   "metadata": {
    "collapsed": false
   },
   "outputs": [],
   "source": [
    "struct2 = bulk('Cu', 'fcc', a=3.6, cubic=True)\n",
    "struct2l = soaplite._get_supercell(struct2, rCut=2.0)\n",
    "#view(struct2)\n",
    "#view(struct2l)\n",
    "mat2 = soaplite.get_periodic_soap_structure(struct2, myAlphas, myBetas, rCut, NradBas, Lmax)\n",
    "mat2l = soaplite.get_periodic_soap_structure(struct2l, myAlphas, myBetas, rCut, NradBas, Lmax)\n",
    "#p.matshow(mat2)\n",
    "#p.matshow(mat2l)"
   ]
  },
  {
   "cell_type": "code",
   "execution_count": 14,
   "metadata": {
    "collapsed": false
   },
   "outputs": [],
   "source": [
    "a0 = 4.0\n",
    "c0 = 0.9 * a0 #https://link.springer.com/content/pdf/10.1007/BF03215214.pdf\n",
    "struct3 = bulk('Au', 'fcc', a=a0, cubic=True)\n",
    "struct3.set_cell(np.diag((a0,a0,c0)), scale_atoms=True)\n",
    "struct3.set_chemical_symbols(('Au','Cu','Cu','Au'))\n",
    "struct3l = soaplite._get_supercell(struct3, rCut=2.0)\n",
    "#view(struct3)\n",
    "#view(struct3l)\n",
    "mat3 = soaplite.get_periodic_soap_structure(struct3, myAlphas, myBetas, rCut, NradBas, Lmax)\n",
    "mat3l = soaplite.get_periodic_soap_structure(struct3l, myAlphas, myBetas, rCut, NradBas, Lmax)\n",
    "#p.matshow(mat3)\n",
    "#p.matshow(mat3l)"
   ]
  },
  {
   "cell_type": "code",
   "execution_count": 21,
   "metadata": {
    "collapsed": false
   },
   "outputs": [
    {
     "name": "stdout",
     "output_type": "stream",
     "text": [
      "[[0.         2.69072481 2.69072481 2.82842712]\n",
      " [2.69072481 0.         2.82842712 2.69072481]\n",
      " [2.69072481 2.82842712 0.         2.69072481]\n",
      " [2.82842712 2.69072481 2.69072481 0.        ]]\n"
     ]
    }
   ],
   "source": [
    "print(struct3.get_all_distances(mic=True))"
   ]
  },
  {
   "cell_type": "code",
   "execution_count": null,
   "metadata": {
    "collapsed": true
   },
   "outputs": [],
   "source": []
  }
 ],
 "metadata": {
  "kernelspec": {
   "display_name": "Python 3",
   "language": "python",
   "name": "python3"
  },
  "language_info": {
   "codemirror_mode": {
    "name": "ipython",
    "version": 3
   },
   "file_extension": ".py",
   "mimetype": "text/x-python",
   "name": "python",
   "nbconvert_exporter": "python",
   "pygments_lexer": "ipython3",
   "version": "3.5.3"
  }
 },
 "nbformat": 4,
 "nbformat_minor": 2
}
