{
 "cells": [
  {
   "cell_type": "code",
   "execution_count": 1,
   "metadata": {},
   "outputs": [
    {
     "name": "stdout",
     "output_type": "stream",
     "text": [
      "Using matplotlib backend: TkAgg\n"
     ]
    }
   ],
   "source": [
    "import ase\n",
    "import numpy as np\n",
    "from numpy.linalg import norm, svd\n",
    "from ase.visualize import view\n",
    "import struct_statistics as stats\n",
    "import matplotlib.pyplot as p\n",
    "import soaputils as su\n",
    "import soaplite\n",
    "import genBasis\n",
    "%matplotlib"
   ]
  },
  {
   "cell_type": "code",
   "execution_count": 2,
   "metadata": {},
   "outputs": [
    {
     "name": "stdout",
     "output_type": "stream",
     "text": [
      "Using matplotlib backend: TkAgg\n",
      "Cell([15.0, 15.0, 15.0], pbc=True)\n",
      "197\n"
     ]
    }
   ],
   "source": [
    "%matplotlib\n",
    "rCut = 10.0\n",
    "NradBas = 5\n",
    "Lmax = 5\n",
    "myAlphas, myBetas = genBasis.getBasisFunc(rCut, NradBas)\n",
    "n = 20\n",
    "\n",
    "struct0 = ase.io.read(\"res_structs/dump_50A.cfg\")\n",
    "struct0s = struct0.copy()\n",
    "struct0s.set_cell((15,15,15))\n",
    "struct0s = su.limit_pos(struct0s)\n",
    "print(struct0s.get_cell())\n",
    "print(len(struct0s.get_chemical_symbols()))\n",
    "#view(struct0s)"
   ]
  },
  {
   "cell_type": "code",
   "execution_count": 3,
   "metadata": {},
   "outputs": [],
   "source": [
    "# function to return vector with svd-norm for increasing offsets\n",
    "np.random.seed(50)\n",
    "def sample_vec(struct,cell,seed,method=2):\n",
    "    struct = su.ran_sample(struct,cell,seed)\n",
    "    n = 20\n",
    "    s_norm = np.zeros(n)\n",
    "    offset = np.linspace(0,9,n)\n",
    "    for i in np.arange(n):\n",
    "        struct_off = struct.copy()\n",
    "        pos = struct_off.get_positions()\n",
    "        shape = pos.shape\n",
    "        #s = np.zeros(N)\n",
    "        ran_pos = (np.random.random_sample(shape)-0.5)*2*offset[i]\n",
    "        pos += ran_pos\n",
    "        struct.set_positions(pos)\n",
    "        struct.wrap(pbc=(1,1,1)) # atoms are wrapped inside unit cell to prevent atoms going outside of it\n",
    "        mat = soaplite.get_periodic_soap_structure(struct_off, myAlphas, myBetas, rCut, NradBas, Lmax)\n",
    "        s = svd(mat.transpose(), full_matrices=False, compute_uv=False)\n",
    "        if method==0:\n",
    "            s_norm[i] = norm(s, ord=1)\n",
    "        elif method==1:\n",
    "            s_norm[i] = norm(s)\n",
    "        else:\n",
    "            s_norm[i] = norm(s, ord=1)/norm(s)\n",
    "    return s_norm"
   ]
  },
  {
   "cell_type": "code",
   "execution_count": null,
   "metadata": {
    "scrolled": false
   },
   "outputs": [],
   "source": [
    "# l1/l2 metric test\n",
    "n = 20\n",
    "np.random.seed(50)\n",
    "Nsamples = 20\n",
    "res1 = np.zeros((Nsamples,20))\n",
    "offset = np.linspace(0,9,n)\n",
    "for i in np.arange(Nsamples):\n",
    "    print('step: %i' %i)\n",
    "    vec = sample_vec(struct0, (15,15,15), 50+i)\n",
    "    res1[i] = vec\n",
    "np.save(\"res_data/offset_l1l2\",res1)"
   ]
  },
  {
   "cell_type": "code",
   "execution_count": null,
   "metadata": {},
   "outputs": [],
   "source": [
    "%matplotlib\n",
    "res = np.load(\"res_data/offset_l1l2.npy\")\n",
    "p.plot(offset,res1.transpose())\n",
    "p.xlabel('Random offset magnitude [$\\AA$]')\n",
    "p.ylabel('l1/l2 metric [a.u.]')"
   ]
  },
  {
   "cell_type": "code",
   "execution_count": null,
   "metadata": {},
   "outputs": [],
   "source": [
    "var1 = np.std(res1, 0)\n",
    "mean1 = np.mean(res1, 0)\n",
    "offset = np.linspace(0,9,n)\n",
    "p.errorbar(x=offset, y=mean1, yerr=var1)\n",
    "p.xlabel('Random offset magnitude [$\\AA$]')\n",
    "p.ylabel('l1/l2 metric [a.u.]')"
   ]
  },
  {
   "cell_type": "code",
   "execution_count": null,
   "metadata": {},
   "outputs": [],
   "source": [
    "# l1/l2 metric single species\n",
    "structr = struct0.copy()\n",
    "nums = structr.get_atomic_numbers()\n",
    "nums = [1 for i in nums]\n",
    "structr.set_atomic_numbers(nums)\n",
    "#view(structr)\n",
    "\n",
    "np.random.seed(50)\n",
    "Nsamples = 20\n",
    "res3 = np.zeros((Nsamples,20))\n",
    "offset = np.linspace(0,9,n)\n",
    "for i in np.arange(Nsamples):\n",
    "    print('step: %i' %i)\n",
    "    vec = sample_vec(structr, (15,15,15), 50+i)\n",
    "    res3[i] = vec\n",
    "np.save(\"res_data/offset_l1l2_single\",res3)"
   ]
  },
  {
   "cell_type": "code",
   "execution_count": null,
   "metadata": {},
   "outputs": [],
   "source": [
    "res = np.load(\"res_data/offset_l1l2_single.npy\")\n",
    "p.plot(offset,res.transpose())\n",
    "p.xlabel('Random offset magnitude [$\\AA$]')\n",
    "p.ylabel('l1/l2 metric [a.u.]')"
   ]
  },
  {
   "cell_type": "code",
   "execution_count": null,
   "metadata": {},
   "outputs": [],
   "source": [
    "var = np.std(res, 0)\n",
    "mean = np.mean(res, 0)\n",
    "offset = np.linspace(0,9,n)\n",
    "p.errorbar(x=offset, y=mean, yerr=var)\n",
    "p.xlabel('Random offset magnitude [$\\AA$]')\n",
    "p.ylabel('l1/l2 metric [a.u.]')"
   ]
  },
  {
   "cell_type": "code",
   "execution_count": null,
   "metadata": {
    "scrolled": false
   },
   "outputs": [],
   "source": [
    "# l1/l2 random starting positions\n",
    "struct = su.rand_pos(struct0, seed=50)\n",
    "\n",
    "np.random.seed(50)\n",
    "Nsamples = 20\n",
    "res4 = np.zeros((Nsamples,20))\n",
    "offset = np.linspace(0,9,n)\n",
    "for i in np.arange(Nsamples):\n",
    "    print('step: %i' %i)\n",
    "    vec = sample_vec(struct, (15,15,15), 50+i)\n",
    "    res4[i] = vec\n",
    "np.save(\"res_data/offset_l1l2_rand\",res4)"
   ]
  },
  {
   "cell_type": "code",
   "execution_count": null,
   "metadata": {},
   "outputs": [],
   "source": [
    "res = np.load(\"res_data/offset_l1l2_rand.npy\")\n",
    "p.plot(offset,res.transpose())\n",
    "p.xlabel('Random offset magnitude [$\\AA$]')\n",
    "p.ylabel('l1/l2 metric [a.u.]')"
   ]
  },
  {
   "cell_type": "code",
   "execution_count": null,
   "metadata": {},
   "outputs": [],
   "source": [
    "var = np.std(res, 0)\n",
    "mean = np.mean(res, 0)\n",
    "offset = np.linspace(0,9,n)\n",
    "p.errorbar(x=offset, y=mean, yerr=var)\n",
    "p.xlabel('Random offset magnitude [$\\AA$]')\n",
    "p.ylabel('l1/l2 metric [a.u.]')"
   ]
  },
  {
   "cell_type": "code",
   "execution_count": null,
   "metadata": {
    "scrolled": false
   },
   "outputs": [],
   "source": [
    "# l1 metric test\n",
    "np.random.seed(50)\n",
    "Nsamples = 20\n",
    "res5 = np.zeros((Nsamples,20))\n",
    "offset = np.linspace(0,9,n)\n",
    "for i in np.arange(Nsamples):\n",
    "    print('step: %i' %i)\n",
    "    vec = sample_vec(struct0, (15,15,15), 50+i,method=0)\n",
    "    res5[i] = vec\n",
    "np.save(\"res_data/offset_l1\",res5)"
   ]
  },
  {
   "cell_type": "code",
   "execution_count": null,
   "metadata": {},
   "outputs": [],
   "source": [
    "res = np.load(\"res_data/offset_l1.npy\")\n",
    "p.plot(offset,res.transpose())\n",
    "p.xlabel('Random offset magnitude [$\\AA$]')\n",
    "p.ylabel('l1 metric [a.u.]')"
   ]
  },
  {
   "cell_type": "code",
   "execution_count": null,
   "metadata": {},
   "outputs": [],
   "source": [
    "var = np.std(res, 0)\n",
    "mean = np.mean(res, 0)\n",
    "offset = np.linspace(0,9,n)\n",
    "p.errorbar(x=offset, y=mean, yerr=var)\n",
    "p.xlabel('Random offset magnitude [$\\AA$]')\n",
    "p.ylabel('l1 metric [a.u.]')"
   ]
  },
  {
   "cell_type": "code",
   "execution_count": 6,
   "metadata": {
    "scrolled": false
   },
   "outputs": [
    {
     "name": "stdout",
     "output_type": "stream",
     "text": [
      "step: 0\n",
      "step: 1\n",
      "step: 2\n",
      "step: 3\n",
      "step: 4\n",
      "step: 5\n",
      "step: 6\n",
      "step: 7\n",
      "step: 8\n",
      "step: 9\n",
      "step: 10\n",
      "step: 11\n",
      "step: 12\n",
      "step: 13\n",
      "step: 14\n",
      "step: 15\n",
      "step: 16\n",
      "step: 17\n",
      "step: 18\n",
      "step: 19\n"
     ]
    }
   ],
   "source": [
    "# l2 metric test\n",
    "np.random.seed(50)\n",
    "Nsamples = 20\n",
    "res6 = np.zeros((Nsamples,20))\n",
    "offset = np.linspace(0,9,n)\n",
    "for i in np.arange(Nsamples):\n",
    "    print('step: %i' %i)\n",
    "    vec = sample_vec(struct0, (15,15,15), 50+i,method=1)\n",
    "    res6[i] = vec\n",
    "np.save(\"res_data/offset_l2\",res6)"
   ]
  },
  {
   "cell_type": "code",
   "execution_count": 9,
   "metadata": {},
   "outputs": [
    {
     "data": {
      "text/plain": [
       "Text(0, 0.5, 'l1 metric [a.u.]')"
      ]
     },
     "execution_count": 9,
     "metadata": {},
     "output_type": "execute_result"
    }
   ],
   "source": [
    "res = np.load(\"res_data/offset_l2.npy\")\n",
    "p.plot(offset,res.transpose())\n",
    "p.xlabel('Random offset magnitude [$\\AA$]')\n",
    "p.ylabel('l1 metric [a.u.]')"
   ]
  },
  {
   "cell_type": "code",
   "execution_count": 10,
   "metadata": {},
   "outputs": [
    {
     "data": {
      "text/plain": [
       "Text(0, 0.5, 'l2 metric [a.u.]')"
      ]
     },
     "execution_count": 10,
     "metadata": {},
     "output_type": "execute_result"
    }
   ],
   "source": [
    "var = np.std(res, 0)\n",
    "mean = np.mean(res, 0)\n",
    "offset = np.linspace(0,9,n)\n",
    "p.errorbar(x=offset, y=mean, yerr=var)\n",
    "p.xlabel('Random offset magnitude [$\\AA$]')\n",
    "p.ylabel('l2 metric [a.u.]')"
   ]
  },
  {
   "cell_type": "code",
   "execution_count": null,
   "metadata": {},
   "outputs": [],
   "source": [
    "fig, axs = p.subplots(1,2,figsize=[9,4],sharey=True)\n",
    "axs[0].plot(offset,res6.transpose())\n",
    "axs[0].set_xlabel('Random offset magnitude')\n",
    "axs[0].set_ylabel('l2 metric')\n",
    "\n",
    "axs[1].errorbar(x=offset, y=mean6, yerr=var6)\n",
    "axs[0].set_xlabel('Random offset magnitude')\n",
    "axs[0].set_ylabel('mean l2 metric')"
   ]
  },
  {
   "cell_type": "code",
   "execution_count": null,
   "metadata": {},
   "outputs": [],
   "source": [
    "struct = su.gen_struct()"
   ]
  }
 ],
 "metadata": {
  "kernelspec": {
   "display_name": "Python 3",
   "language": "python",
   "name": "python3"
  },
  "language_info": {
   "codemirror_mode": {
    "name": "ipython",
    "version": 3
   },
   "file_extension": ".py",
   "mimetype": "text/x-python",
   "name": "python",
   "nbconvert_exporter": "python",
   "pygments_lexer": "ipython3",
   "version": "3.7.3"
  }
 },
 "nbformat": 4,
 "nbformat_minor": 2
}
