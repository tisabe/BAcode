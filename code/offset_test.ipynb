{
 "cells": [
  {
   "cell_type": "code",
   "execution_count": 8,
   "metadata": {},
   "outputs": [
    {
     "name": "stdout",
     "output_type": "stream",
     "text": [
      "Using matplotlib backend: TkAgg\n"
     ]
    }
   ],
   "source": [
    "import ase\n",
    "import numpy as np\n",
    "from numpy.linalg import norm, svd\n",
    "from ase.visualize import view\n",
    "import struct_statistics as stats\n",
    "import matplotlib.pyplot as p\n",
    "import soaputils as su\n",
    "import soaplite\n",
    "import genBasis\n",
    "%matplotlib"
   ]
  },
  {
   "cell_type": "code",
   "execution_count": 60,
   "metadata": {},
   "outputs": [
    {
     "name": "stdout",
     "output_type": "stream",
     "text": [
      "Cell([15.0, 15.0, 15.0], pbc=True)\n",
      "197\n"
     ]
    }
   ],
   "source": [
    "rCut = 10.0\n",
    "NradBas = 5\n",
    "Lmax = 5\n",
    "myAlphas, myBetas = genBasis.getBasisFunc(rCut, NradBas)\n",
    "\n",
    "struct0 = ase.io.read(\"res_structs/dump_50A.cfg\")\n",
    "struct0.set_cell((15,15,15))\n",
    "struct0 = su.limit_pos(struct0)\n",
    "print(struct0.get_cell())\n",
    "print(len(struct0.get_chemical_symbols()))"
   ]
  },
  {
   "cell_type": "code",
   "execution_count": 68,
   "metadata": {},
   "outputs": [],
   "source": [
    "np.random.seed(50)\n",
    "n = 20\n",
    "offset = np.linspace(0,9,n)\n",
    "N = len(struct.get_chemical_symbols())\n",
    "p.figure()\n",
    "sl1 = np.zeros(n)\n",
    "sl2 = np.zeros(n)\n",
    "for i in np.arange(n):\n",
    "    struct = struct0.copy()\n",
    "    pos = struct.get_positions()\n",
    "    shape = pos.shape\n",
    "    #s = np.zeros(N)\n",
    "    ran_pos = (np.random.random_sample(shape)-0.5)*2*offset[i]\n",
    "    pos += ran_pos\n",
    "    struct.set_positions(pos)\n",
    "    mat = soaplite.get_periodic_soap_structure(struct, myAlphas, myBetas, rCut, NradBas, Lmax)\n",
    "    s = svd(mat.transpose(), full_matrices=False, compute_uv=False)\n",
    "    sl1[i] = norm(s, ord=1)\n",
    "    sl2[i] = norm(s)\n",
    "    p.semilogy(s, label=str(offset[i]))\n",
    "p.legend()\n",
    "p.show()"
   ]
  },
  {
   "cell_type": "code",
   "execution_count": 70,
   "metadata": {},
   "outputs": [
    {
     "data": {
      "text/plain": [
       "Text(0, 0.5, 'l1/l2 metric')"
      ]
     },
     "execution_count": 70,
     "metadata": {},
     "output_type": "execute_result"
    }
   ],
   "source": [
    "p.plot(offset, sl1/sl2)\n",
    "p.xlabel('Random offset magnitude')\n",
    "p.ylabel('l1/l2 metric')"
   ]
  },
  {
   "cell_type": "code",
   "execution_count": 61,
   "metadata": {},
   "outputs": [
    {
     "data": {
      "text/plain": [
       "<matplotlib.image.AxesImage at 0x7f630f17eeb8>"
      ]
     },
     "execution_count": 61,
     "metadata": {},
     "output_type": "execute_result"
    }
   ],
   "source": [
    "mat = soaplite.get_periodic_soap_structure(struct0, myAlphas, myBetas, rCut, NradBas, Lmax)\n",
    "p.matshow(mat)"
   ]
  },
  {
   "cell_type": "code",
   "execution_count": null,
   "metadata": {},
   "outputs": [],
   "source": []
  }
 ],
 "metadata": {
  "kernelspec": {
   "display_name": "Python 3",
   "language": "python",
   "name": "python3"
  },
  "language_info": {
   "codemirror_mode": {
    "name": "ipython",
    "version": 3
   },
   "file_extension": ".py",
   "mimetype": "text/x-python",
   "name": "python",
   "nbconvert_exporter": "python",
   "pygments_lexer": "ipython3",
   "version": "3.7.3"
  }
 },
 "nbformat": 4,
 "nbformat_minor": 2
}
